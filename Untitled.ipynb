{
 "cells": [
  {
   "cell_type": "code",
   "execution_count": null,
   "id": "15678c5d",
   "metadata": {},
   "outputs": [],
   "source": [
    "def func(x):\n",
    "    print(id(x))\n",
    "    x = x.append(2)\n",
    "    \n",
    "y = [1,3,4]\n",
    "print(id(y))\n",
    "func(y)\n",
    "y"
   ]
  },
  {
   "cell_type": "code",
   "execution_count": null,
   "id": "4710da7f",
   "metadata": {},
   "outputs": [],
   "source": [
    "s = {0}\n",
    "s.add(3)\n",
    "s.add(2)\n",
    "s.add(1)\n",
    "s.pop()"
   ]
  },
  {
   "cell_type": "code",
   "execution_count": null,
   "id": "66f9d95d",
   "metadata": {},
   "outputs": [],
   "source": [
    "tup = (1,\"okok\",\"meow\",{1,2,3})\n",
    "di = dict()\n",
    "for x in tup:\n",
    "    if(type(x) in di):\n",
    "        di[type(x)] = di[type(x)] + 1\n",
    "    else:\n",
    "        di[(type(x))] = 1\n",
    "viratype(list(di.items())[0][0])"
   ]
  },
  {
   "cell_type": "code",
   "execution_count": null,
   "id": "8613d545",
   "metadata": {},
   "outputs": [],
   "source": [
    "l = [1,2,3,4]\n",
    "itr = enumerate(l)\n",
    "next(itr)"
   ]
  },
  {
   "cell_type": "code",
   "execution_count": null,
   "id": "ba3ac2bf",
   "metadata": {},
   "outputs": [],
   "source": [
    "f = open(\"temp.txt\",\"w\")\n",
    "stri = \"okbakamakataka\"\n",
    "f.write(stri)\n",
    "f.close()"
   ]
  },
  {
   "cell_type": "code",
   "execution_count": null,
   "id": "34e525ed",
   "metadata": {},
   "outputs": [],
   "source": [
    "f = open(\"temp.txt\",\"w+\")\n",
    "f.seek(2,0)\n",
    "f.write(\"BAKA\")\n",
    "#x = f.read()\n",
    "print(x)\n",
    "f.close()"
   ]
  },
  {
   "cell_type": "code",
   "execution_count": 1,
   "id": "5bdfcb68",
   "metadata": {},
   "outputs": [
    {
     "name": "stdout",
     "output_type": "stream",
     "text": [
      "nt\n",
      "C:\\Users\\raadh\\OneDrive\\Documents\\raadhes\\iitm\\Courses\\ED5340\\labs\n",
      "['.ipynb_checkpoints', 'CS22B069_lab1.ipynb', 'lab10', 'lab11', 'lab12', 'lab13', 'lab14', 'lab2', 'lab3', 'lab4', 'lab5', 'lab6', 'lab7', 'lab8', 'lab9', 'Untitled.ipynb', 'Untitled1.ipynb']\n",
      "['.ipynb_checkpoints', 'Classes', 'ED5340_DataScience', 'ED5340_Lectures_In_PDF', 'L3_output.py', 'labs', 'Textbooks', 'Untitled Folder', 'Untitled.ipynb']\n",
      "C:\\Users\\raadh\\OneDrive\\Documents\\raadhes\\iitm\\Courses\\ED5340\\labs\\TestDir\n",
      "22\n",
      "C:\\Users\\raadh\\OneDrive\\Documents\\raadhes\\iitm\\Courses\\ED5340\\labs\\TestDir\n",
      "C:\\Users\\raadh\\OneDrive\\Documents\\raadhes\\iitm\\Courses\\ED5340\\labs\\TestDir\\ourfile\n",
      "Your file does not exist\n"
     ]
    }
   ],
   "source": [
    "#!/usr/bin/env python3\n",
    "# -*- coding: utf-8 -*-\n",
    "\"\"\"\n",
    "Created on Wed Apr 28 21:24:25 2021\n",
    "\n",
    "@author: ramanathanmuthuganapathy\n",
    "\"\"\"\n",
    "\n",
    "\n",
    "#File and directory operations\n",
    "\n",
    "import os\n",
    "\n",
    "import shutil\n",
    "\n",
    "print(os.name)\n",
    "print(os.getcwd())\n",
    "print(os.listdir('.'))\n",
    "print(os.listdir('..'))\n",
    "\n",
    "\n",
    "if os.path.exists('TestDir'):\n",
    "    print('TestDir exists')\n",
    "else:\n",
    "    os.mkdir('TestDir')\n",
    "    \n",
    "os.chdir('TestDir')\n",
    "print(os.getcwd())\n",
    "# os.makedirs('./dir2/dir3') #Recursive directory creation\n",
    "\n",
    "f = open('myfile', 'w')\n",
    "f.write('This is a created file')\n",
    "f.close()\n",
    "stats = os.stat('myfile')\n",
    "print(stats.st_size)\n",
    "\n",
    "os.rename('myfile', 'Yourfile')\n",
    "shutil.copyfile('yourfile', 'ourfile')\n",
    "os.remove('yourfile')\n",
    "\n",
    "curpath = os.path.abspath('.')\n",
    "print(curpath)\n",
    "curpath = os.path.join(curpath, 'ourfile')\n",
    "print(curpath)\n",
    "if os.path.isfile(curpath):\n",
    "    print('Your file exist ')\n",
    "else:\n",
    "    print('Your file does not exist')"
   ]
  },
  {
   "cell_type": "code",
   "execution_count": null,
   "id": "ea6cef66",
   "metadata": {},
   "outputs": [],
   "source": []
  }
 ],
 "metadata": {
  "kernelspec": {
   "display_name": "Python 3 (ipykernel)",
   "language": "python",
   "name": "python3"
  },
  "language_info": {
   "codemirror_mode": {
    "name": "ipython",
    "version": 3
   },
   "file_extension": ".py",
   "mimetype": "text/x-python",
   "name": "python",
   "nbconvert_exporter": "python",
   "pygments_lexer": "ipython3",
   "version": "3.11.3"
  }
 },
 "nbformat": 4,
 "nbformat_minor": 5
}
