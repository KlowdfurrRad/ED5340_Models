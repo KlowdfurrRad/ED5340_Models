{
 "cells": [
  {
   "cell_type": "markdown",
   "id": "01a1b90e",
   "metadata": {},
   "source": [
    "<font size = 5>**LAB 6 PART 2**</font>"
   ]
  },
  {
   "cell_type": "markdown",
   "id": "6e08e054",
   "metadata": {},
   "source": [
    "<font size = 4>**QUESTION 6**</font>\n",
    "\n",
    "6.    Create a base class Vehicle with the following attributes:\n",
    "\n",
    "         make (string)\n",
    "\n",
    "         model (string)\n",
    "\n",
    "         year (int)\n",
    "\n",
    "       Create a method initialize_vehicle to set the above attributes. Also, create a method display_vehicle to print these attributes.\n",
    "\n",
    "       Create a class Car inherited from Vehicle with the following additional attribute:\n",
    "\n",
    "         fuel_type (string)\n",
    "\n",
    "       Create a method get_car_details to initialize the above attribute along with Vehicle attributes.\n",
    "\n",
    "       Also, create a method display_vehicle to print these attributes along with Vehicle attributes.\n",
    "\n",
    "       Create a class Bike inherited from Vehicle with the following additional attribute:\n",
    "\n",
    "           gear_count (int)\n",
    "\n",
    "      Create a method get_bike_details to initialize the above attribute along with Vehicle attributes.\n",
    "\n",
    "      Also, create a method display_vehicle to print these attributes along with Vehicle attributes.\n",
    "\n",
    "      Create two different objects for Car and Bike and demonstrate each of the methods.\n",
    "\n",
    "     Example -1:\n",
    "\n",
    "         my_car = Car()\n",
    "\n",
    "        my_car.get_car_details(\"Toyota\", \"Camry\", 2020, \"Petrol\")\n",
    "\n",
    "        my_car.display_vehicle()\n",
    "\n",
    "        Output:\n",
    "\n",
    "           Make: Toyota, Model: Camry, Year: 2020\n",
    "\n",
    "           Fuel Type: Petrol\n",
    "\n",
    "          Example -2 :\n",
    "\n",
    "           my_bike = Bike()\n",
    "\n",
    "           my_bike.get_bike_details(\"Yamaha\", \"YZF R1\", 2021, 6)\n",
    "\n",
    "           my_bike.display_vehicle()\n",
    "\n",
    "          Output:\n",
    "\n",
    "             Make: Yamaha, Model: YZF R1, Year: 2021\n",
    "\n",
    "             Gear Count: 6"
   ]
  },
  {
   "cell_type": "code",
   "execution_count": 43,
   "id": "11a1621b",
   "metadata": {},
   "outputs": [],
   "source": [
    "class Vehicle:\n",
    "    def __init__(self):\n",
    "        pass\n",
    "    def initialize_Vehicle(self,make,model,year):\n",
    "        self.make = make\n",
    "        self.model = model\n",
    "        self.year = year\n",
    "    \n",
    "class Car(Vehicle):\n",
    "    def __init__(self):\n",
    "        super().__init__()\n",
    "    \n",
    "    def get_car_details(self,make,model,year,fuel_type):\n",
    "        self.fuel_type = fuel_type\n",
    "        self.initialize_Vehicle(make,model,year)\n",
    "        \n",
    "    def display_vehicle(self):\n",
    "        print(f\"Make:{self.make}, Model:{self.model}, Year:{self.year}\")\n",
    "        print(f\"Fuel Type:{self.fuel_type}\")\n",
    "\n",
    "class Bike(Vehicle):\n",
    "    def __init__(self):\n",
    "        pass\n",
    "    def get_bike_details(self,make,model,year,gear_count):\n",
    "        self.gear_count = gear_count\n",
    "        self.initialize_Vehicle(make,model,year)\n",
    "    def display_vehicle(self):\n",
    "        print(f\"Make:{self.make}, Model:{self.model}, Year:{self.year}\")\n",
    "        print(f\"Gear Count:{self.gear_count}\")\n",
    "    \n",
    "        "
   ]
  },
  {
   "cell_type": "code",
   "execution_count": 44,
   "id": "51fb91e6",
   "metadata": {},
   "outputs": [
    {
     "name": "stdout",
     "output_type": "stream",
     "text": [
      "Make:Toyota, Model:Corolla, Year:2024\n",
      "Fuel Type:Petrol\n"
     ]
    }
   ],
   "source": [
    "#Let us create a car and display it\n",
    "car1 = Car()\n",
    "car1.get_car_details(\"Toyota\",\"Corolla\",2024,\"Petrol\")\n",
    "car1.display_vehicle()"
   ]
  },
  {
   "cell_type": "code",
   "execution_count": 45,
   "id": "50d59498",
   "metadata": {},
   "outputs": [
    {
     "name": "stdout",
     "output_type": "stream",
     "text": [
      "Make:Hero Honda, Model:Glamour, Year:2023\n",
      "Gear Count:5\n"
     ]
    }
   ],
   "source": [
    "#Let us create a bike and display it\n",
    "bike1 = Bike()\n",
    "bike1.get_bike_details(\"Hero Honda\",\"Glamour\",2023,5)\n",
    "bike1.display_vehicle()"
   ]
  },
  {
   "cell_type": "markdown",
   "id": "13f72676",
   "metadata": {},
   "source": [
    "<font size = 4>**QUESTION 7**</font>\n",
    "\n",
    "7. Suppose you are building a Python program to manage a school's student data. You need to create a Student class that contains information such as the student's name, age, grade, and class schedule. Additionally, there are some attributes that are shared by all students, such as the school name, the total number of students, and the number of classes offered.\n",
    "\n",
    "How can you use class variables in Python to define these shared attributes of the Student class? What are the advantages of using class variables in this scenario? Can you provide an example program that demonstrates the use of class variables in the Student class? \n",
    "\n"
   ]
  },
  {
   "cell_type": "code",
   "execution_count": 46,
   "id": "e932b1ae",
   "metadata": {},
   "outputs": [
    {
     "name": "stdout",
     "output_type": "stream",
     "text": [
      "3\n",
      "3\n",
      "3\n",
      "3\n"
     ]
    }
   ],
   "source": [
    "'''Advantages of class attributes here :\n",
    "\n",
    "> Consistency : Total number of students can be incremented everytime a new student is initialized\n",
    "    in the class attribute \"total_stud\"\n",
    "    This ensures the consistency of the number of students.\n",
    "    If there were an attribute of total students for EACH Student then whenever we add\n",
    "    a student we would need to increment this for EACH Student which is both \n",
    "    time taking and unnecessary\n",
    "> Memory efficiency : We do not need school_name , total_stud , num_classes attributes\n",
    "    for each instance of Student separately as it is same for all Student\n",
    "    \n",
    "'''\n",
    "\n",
    "class Student:\n",
    "    school_name = \"Ez primary school\"\n",
    "    total_stud = 0\n",
    "    num_classes = 10\n",
    "    def __init__(self,name,age,grade,schedule):\n",
    "        self.name = name\n",
    "        self.age = age\n",
    "        self.grade = grade\n",
    "        self.schedule = schedule\n",
    "        Student.total_stud += 1\n",
    "        \n",
    "\n",
    "s1 = Student(\"Hemesh\",16,9.4,\"9 : Science , 10 : Math , 11 : Chemistry\")\n",
    "s2 = Student(\"Aditya\",15,9.1,\"9 : Science , 10 : Math , 12 : Physics\")\n",
    "s3 = Student(\"Mark\",16,9.7,\"8 : Biology , 10 : Math , 11 : Chemistry\")\n",
    "\n",
    "'''\n",
    "Observe the total_stud is SHARED between all instances of Student\n",
    "class and has the same value\n",
    "'''\n",
    "\n",
    "print(s1.total_stud)\n",
    "print(s2.total_stud)\n",
    "print(s3.total_stud)\n",
    "print(Student.total_stud)\n",
    "\n"
   ]
  },
  {
   "cell_type": "markdown",
   "id": "e7a71359",
   "metadata": {},
   "source": [
    "<font size = 4>**QUESTION 8**</font>\n",
    "\n",
    "8. Class Inheritance in Python: Finding GCD (greatest common divisor) and LCM (least common multiple) of Numbers and Handling Composite Numbers.\n",
    "\n",
    "\n",
    "a) Create a Numbers class with a, b, find_gcd(), and find_lcm() methods.\n",
    "\n",
    "b) Create an EvenNumbers class that inherits from Numbers and overrides find_lcm() to handle even numbers.\n",
    "\n",
    "c) Create an OddNumbers class that inherits from Numbers and overrides find_lcm() to handle odd numbers.\n",
    "\n",
    "d) Create a CompositeNumbers class that inherits from EvenNumbers and OddNumbers and overrides find_gcd() to handle composite numbers.\n",
    "\n",
    "e) Create a CompositeNumbers object with a = 12 and b = 9, and call its find_lcm() and find_gcd() methods."
   ]
  },
  {
   "cell_type": "code",
   "execution_count": 48,
   "id": "071bade2",
   "metadata": {},
   "outputs": [
    {
     "name": "stdout",
     "output_type": "stream",
     "text": [
      "lcm of 12 and 9 36\n",
      "gcd of 12 and 9 3\n"
     ]
    }
   ],
   "source": [
    "class Numbers:\n",
    "    def __init__(self,a,b):\n",
    "        self.a = a\n",
    "        self.b = b\n",
    "    \n",
    "    def find_gcd(self):\n",
    "        #Below is Euclids recursive implementation of gcd\n",
    "        \n",
    "        #If b is greater we swap and call\n",
    "        if(self.b > self.a):\n",
    "            return Numbers(self.b,self.a).find_gcd()\n",
    "        \n",
    "        #If a divisble by b then return b. Else you find gcd of a%b and b.\n",
    "        if(self.a % self.b == 0):\n",
    "            return self.b\n",
    "        else:\n",
    "            return Numbers(self.b,self.a%self.b).find_gcd()\n",
    "        \n",
    "    def find_lcm(self):\n",
    "        return self.a*self.b//self.find_gcd()\n",
    "\n",
    "class EvenNumbers(Numbers):\n",
    "    def __init__(self,a,b):\n",
    "        super().__init__(a,b)\n",
    "    \n",
    "    def find_lcm(self):\n",
    "        #Only returns the lcm when the numbers are both even\n",
    "        if(self.a%2 == 0 and self.b%2 == 0):\n",
    "            return super().find_lcm()\n",
    "        else:\n",
    "            return \"One of more elements are not even\"\n",
    "    \n",
    "class OddNumbers(Numbers):\n",
    "    #Only returns lcm when both numbers are odd\n",
    "    def __init__(self,a,b):\n",
    "        super().__init__(a,b)\n",
    "    def find_lcm(self):\n",
    "        if(self.a%2 == 1 and self.b%2 == 1):\n",
    "            return super().find_lcm()\n",
    "        else:\n",
    "            return \"One or more numbers are not Odd\"\n",
    "        \n",
    "class CompositeNumbers(EvenNumbers,OddNumbers):\n",
    "    def __init__(self,a,b):\n",
    "        EvenNumbers.__init__(self,a,b)\n",
    "        OddNumbers.__init__(self,a,b)\n",
    "    \n",
    "    #Only return the gcd , lcm when both numbers are composite\n",
    "    def find_gcd(self):\n",
    "        if(self.isnotprime(self.a) and self.isnotprime(self.b)):\n",
    "            return Numbers(self.a,self.b).find_gcd()\n",
    "        else:\n",
    "            return \"One or more numbers is not Composite\"\n",
    "        \n",
    "    def find_lcm(self):\n",
    "        if(self.isnotprime(self.a) and self.isnotprime(self.b)):\n",
    "            return Numbers(self.a,self.b).find_lcm()\n",
    "        else:\n",
    "            return \"One or more numbers is not Composite\"\n",
    "        \n",
    "    def isnotprime(self,x):\n",
    "        for num in range(1,x):\n",
    "            if(x%num == 0):\n",
    "                return True\n",
    "        return False\n",
    "    \n",
    "    \n",
    "    \n",
    "x = CompositeNumbers(12,9)\n",
    "print(\"lcm of 12 and 9\",x.find_lcm())\n",
    "print(\"gcd of 12 and 9\",x.find_gcd())\n",
    "\n",
    "#print(CompositeNumbers.isnotprime(7))\n",
    "    "
   ]
  },
  {
   "cell_type": "markdown",
   "id": "30159bb3",
   "metadata": {},
   "source": [
    "<font size = 4>**QUESTION 9**</font>\n",
    "\n",
    "9. WAP to manage the collections of books in a library in the following  manner:\n",
    "\n",
    " Create a Python script that can both read from and write to a CSV file, containing details about each book. Each book's information will include its title, author, publication year, and ISBN number. Your script should be capable of adding new books to the CSV file and listing all the books currently stored in the file.\n",
    "\n",
    "The program should begin by checking if the CSV file exists. If it does not, your script should create it and initialize it with the appropriate headers. Then, there should be 2 options: to add a new book or to display all books. When adding a new book, the user should be prompted to enter the title, author, publication year, and ISBN number. This new book should then be added to the CSV file without overwriting the existing entries. When choosing to display all books, the script should read from the CSV file and print each book's details."
   ]
  },
  {
   "cell_type": "code",
   "execution_count": 49,
   "id": "13f7e20e",
   "metadata": {},
   "outputs": [],
   "source": [
    "import os\n",
    "import csv\n",
    "\n",
    "\n",
    "class Catalog:\n",
    "    def __init__(self,file_name):\n",
    "        self.file_name = file_name\n",
    "        if(os.path.isfile(self.file_name)):\n",
    "            pass\n",
    "            #IF THE FILE IS THERE IT ASSUMES THAT THE FORMAT IS CORRECT\n",
    "        else:\n",
    "            #If the file is not there then we make the file and add the headings\n",
    "            with open(self.file_name,\"w\") as file:\n",
    "                file.write(\"title,author,publication year,ISBN\\n\")\n",
    "    \n",
    "    def add_book(self,title,author,publication_year,ISBN):\n",
    "        #create string for new line in csv of new book and Append to the csv file\n",
    "        new_book = f\"{title},{author},{publication_year},{ISBN}\\n\"\n",
    "        with open(self.file_name,\"a\") as file:\n",
    "            file.write(new_book)\n",
    "            \n",
    "    def display_book(self):\n",
    "        #Open in read mode\n",
    "        with open(self.file_name,\"r\") as file:\n",
    "            csv_reader = csv.reader(file,delimiter = \",\")\n",
    "            \n",
    "            #labels in the first row of csv_reader\n",
    "            labels = next(csv_reader)\n",
    "            \n",
    "            #The next rows we can just iterate over with for loop\n",
    "            print(\"The books in Catalog:\")\n",
    "            for row in csv_reader:\n",
    "                for ele in zip(labels,row):\n",
    "                    print(f\"{ele[0]}:{ele[1]}\",end = \" \")\n",
    "                print()\n",
    "        \n",
    "\n",
    "\n"
   ]
  },
  {
   "cell_type": "code",
   "execution_count": 50,
   "id": "6c555195",
   "metadata": {},
   "outputs": [
    {
     "name": "stdout",
     "output_type": "stream",
     "text": [
      "The books in Catalog:\n",
      "title:the book author:Srivastav publication year:2004 ISBN:878687 \n",
      "title:book1 author:Ram publication year:2005 ISBN:878687678 \n",
      "title:the third book author:Lakshya publication year:2006 ISBN:878687343 \n",
      "title:Final book author:Singh publication year:2007 ISBN:878682327 \n"
     ]
    }
   ],
   "source": [
    "if(os.path.isfile(\"book.csv\")):\n",
    "    os.remove(\"book.csv\")\n",
    "    \n",
    "cata = Catalog(\"book.csv\")\n",
    "cata.add_book(\"the book\",\"Srivastav\",2004,878687)\n",
    "cata.add_book(\"book1\",\"Ram\",2005,878687678)\n",
    "cata.add_book(\"the third book\",\"Lakshya\",2006,878687343)\n",
    "cata.add_book(\"Final book\",\"Singh\",2007,878682327)\n",
    "cata.display_book()"
   ]
  },
  {
   "cell_type": "markdown",
   "id": "bc3d8deb",
   "metadata": {},
   "source": [
    "<font size = 4>**QUESTION 10**</font>\n",
    "\n",
    "10. WAP to create a pandas dataframe with a list of words and sort them in ascending order. The sorted words should be copied to a new file."
   ]
  },
  {
   "cell_type": "code",
   "execution_count": 11,
   "id": "fc02a60a",
   "metadata": {},
   "outputs": [],
   "source": [
    "import pandas as pd\n",
    "\n",
    "#Below is the list of words\n",
    "lst = [\"apple\",\"banana\",\"aditya\",\"prakash\",\"orange\"]\n",
    "\n",
    "#Create dataframe from list , with column named words\n",
    "df = pd.DataFrame(lst,columns = [\"word\"])\n",
    "\n",
    "#Sort by word\n",
    "df = df.sort_values(by = [\"word\"])\n",
    "\n",
    "#reset indices after sorting\n",
    "df = df.reset_index(drop = True)\n",
    "\n",
    "#Save the dataframe to file named word.csv\n",
    "df.to_csv(\"words.csv\")\n"
   ]
  },
  {
   "cell_type": "code",
   "execution_count": null,
   "id": "0b61b5a4",
   "metadata": {},
   "outputs": [],
   "source": []
  }
 ],
 "metadata": {
  "kernelspec": {
   "display_name": "Python 3 (ipykernel)",
   "language": "python",
   "name": "python3"
  },
  "language_info": {
   "codemirror_mode": {
    "name": "ipython",
    "version": 3
   },
   "file_extension": ".py",
   "mimetype": "text/x-python",
   "name": "python",
   "nbconvert_exporter": "python",
   "pygments_lexer": "ipython3",
   "version": "3.11.3"
  }
 },
 "nbformat": 4,
 "nbformat_minor": 5
}
