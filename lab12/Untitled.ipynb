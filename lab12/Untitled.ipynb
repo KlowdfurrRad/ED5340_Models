{
 "cells": [
  {
   "cell_type": "code",
   "execution_count": 1,
   "id": "21e15acd",
   "metadata": {},
   "outputs": [
    {
     "name": "stdout",
     "output_type": "stream",
     "text": [
      "pygame 2.5.2 (SDL 2.28.3, Python 3.11.3)\n",
      "Hello from the pygame community. https://www.pygame.org/contribute.html\n"
     ]
    }
   ],
   "source": [
    "import pygame\n",
    "import random\n",
    "\n",
    "pygame.init()\n",
    "\n",
    "window_x = 720\n",
    "window_y = 480\n",
    "game_window = pygame.display.set_mode((window_x, window_y))\n",
    "pygame.display.set_caption('Snake Game')\n",
    "\n",
    "\n",
    "snake_position = [100, 50]\n",
    "snake_body = [[100, 50], [90, 50], [80, 50]]\n",
    "fruit_position = [random.randrange(1, window_x // 10) * 10, random.randrange(1, window_y // 10) * 10]\n",
    "fruit_spawn = True\n",
    "direction = 'RIGHT'\n"
   ]
  },
  {
   "cell_type": "code",
   "execution_count": null,
   "id": "92343868",
   "metadata": {},
   "outputs": [],
   "source": []
  }
 ],
 "metadata": {
  "kernelspec": {
   "display_name": "Python 3 (ipykernel)",
   "language": "python",
   "name": "python3"
  },
  "language_info": {
   "codemirror_mode": {
    "name": "ipython",
    "version": 3
   },
   "file_extension": ".py",
   "mimetype": "text/x-python",
   "name": "python",
   "nbconvert_exporter": "python",
   "pygments_lexer": "ipython3",
   "version": "3.11.3"
  }
 },
 "nbformat": 4,
 "nbformat_minor": 5
}
