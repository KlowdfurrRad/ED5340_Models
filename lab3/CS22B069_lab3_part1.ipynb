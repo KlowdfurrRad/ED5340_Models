{
 "cells": [
  {
   "cell_type": "markdown",
   "id": "58d08d4a",
   "metadata": {},
   "source": [
    "<font size = \"5\">**LAB 3 PART 1**</font>"
   ]
  },
  {
   "cell_type": "markdown",
   "id": "366bf39a",
   "metadata": {},
   "source": [
    "<font size = \"4}\">**QUESTION1**</font>"
   ]
  },
  {
   "cell_type": "markdown",
   "id": "56c0b7ad",
   "metadata": {},
   "source": [
    "(a) Construct a catalog of books, with each book having an author's name, book title, ISBN number, publication year, and number of pages.\n",
    "\n",
    "(b) Add a new book to the catalog, ensuring that the books are kept in ascending order based on the publication year.\n",
    "\n",
    "(c) Locate a book by its ISBN number and delete the book's entry from the catalog.\n",
    "\n",
    "(d) Insert a new book entry at the end of the catalog using the provided book information.\n",
    "\n",
    "(e) Identify and remove any duplicate entries in the catalog, preserving only one copy of each book based on its ISBN number.\n",
    "\n",
    "(f) Reorganize the entire catalog so that the books are sorted in descending order by the number of pages."
   ]
  },
  {
   "cell_type": "code",
   "execution_count": 9,
   "id": "05ed4f77",
   "metadata": {},
   "outputs": [
    {
     "name": "stdout",
     "output_type": "stream",
     "text": [
      "Current catalog:  [('Rama', 'The epic book', 123456, 2004, 100), ('Arvind', 'The 2nd epic book', 223456, 2005, 101), ('Arvind', 'The 2nd epic book', 223456, 2005, 101), ('Lakshman', 'The 3rd epic book', 333456, 2006, 102)]\n"
     ]
    }
   ],
   "source": [
    "#(a)\n",
    "def publication_year(book):\n",
    "    return book[3]\n",
    "\n",
    "books = [(\"Arvind\",\"The 2nd epic book\",223456,2005,101),(\"Arvind\",\"The 2nd epic book\",223456,2005,101),(\"Lakshman\",\"The 3rd epic book\",333456,2006,102),(\"Rama\",\"The epic book\",123456,2004,100)]\n",
    "books.sort(reverse=False,key = publication_year)\n",
    "print(\"Current catalog: \",books)"
   ]
  },
  {
   "cell_type": "code",
   "execution_count": 10,
   "id": "14a49e60",
   "metadata": {},
   "outputs": [
    {
     "name": "stdout",
     "output_type": "stream",
     "text": [
      "Added one new book to catalog:  [('Rama', 'The epic book', 123456, 2004, 100), ('Arvind', 'The 2nd epic book', 223456, 2005, 101), ('Arvind', 'The 2nd epic book', 223456, 2005, 101), ('Lakshman', 'The 3rd epic book', 333456, 2006, 102), ('Vijay', 'The 4th book', 444456, 2007, 104)]\n"
     ]
    }
   ],
   "source": [
    "#(b)\n",
    "new_book = (\"Vijay\",\"The 4th book\",444456,2007,104)\n",
    "books.append(new_book) #To add new book\n",
    "books.sort(reverse = False,key = publication_year) #To keep in sorted order\n",
    "print(\"Added one new book to catalog: \",books)"
   ]
  },
  {
   "cell_type": "code",
   "execution_count": 11,
   "id": "8cd508db",
   "metadata": {},
   "outputs": [
    {
     "name": "stdout",
     "output_type": "stream",
     "text": [
      "Removed books of isbn number 333456 . The current books:\n",
      " [('Rama', 'The epic book', 123456, 2004, 100), ('Arvind', 'The 2nd epic book', 223456, 2005, 101), ('Arvind', 'The 2nd epic book', 223456, 2005, 101), ('Vijay', 'The 4th book', 444456, 2007, 104)]\n"
     ]
    }
   ],
   "source": [
    "#(c)\n",
    "isbn = 333456 #isbn to locate and delete\n",
    "removed_isbn_books = [book for book in books if book[2] != isbn] \n",
    "books = removed_isbn_books\n",
    "print(\"Removed books of isbn number\",isbn,\". The current books:\\n\",books)\n",
    "\n",
    "#ALTERNATIVE SOLUTION BY USING for loop and do del books[i] when the required isbn is found "
   ]
  },
  {
   "cell_type": "code",
   "execution_count": 12,
   "id": "2b0c8da4",
   "metadata": {},
   "outputs": [
    {
     "name": "stdout",
     "output_type": "stream",
     "text": [
      "Enter author,book name,isbn,year of publication,number of pages separated by COMMA onlyraadhes,thebook,2898789,2004,100\n",
      "Added new book after taking input from user:\n",
      "  [('Rama', 'The epic book', 123456, 2004, 100), ('Arvind', 'The 2nd epic book', 223456, 2005, 101), ('Arvind', 'The 2nd epic book', 223456, 2005, 101), ('Vijay', 'The 4th book', 444456, 2007, 104), ('raadhes', 'thebook', 2898789, 2004, 100)]\n"
     ]
    }
   ],
   "source": [
    "#(d)Add new book after taking input\n",
    "author,book_name,isbn,year,pages = input(\"Enter author,book name,isbn,year of publication,number of pages separated by COMMA only\").split(',')\n",
    "isbn = int(isbn)\n",
    "year = int(year)\n",
    "pages = int(pages)\n",
    "books.append((author,book_name,isbn,year,pages))\n",
    "print(\"Added new book after taking input from user:\\n \",books)"
   ]
  },
  {
   "cell_type": "code",
   "execution_count": 13,
   "id": "c728cdd2",
   "metadata": {},
   "outputs": [
    {
     "name": "stdout",
     "output_type": "stream",
     "text": [
      "The book after removing any duplicates are:\n",
      " [('Rama', 'The epic book', 123456, 2004, 100), ('Arvind', 'The 2nd epic book', 223456, 2005, 101), ('Vijay', 'The 4th book', 444456, 2007, 104), ('raadhes', 'thebook', 2898789, 2004, 100)]\n"
     ]
    }
   ],
   "source": [
    "#(e)Removing duplicate entries by isbn\n",
    "\n",
    "no_duplicate_books = []  #create new list which will store non duplicates by isbn\n",
    "for book in books:\n",
    "    no_dup = True        #flag telling if book is already in new list or not\n",
    "    for x in no_duplicate_books:\n",
    "        if(x[2] == book[2]):\n",
    "            no_dup = False\n",
    "    \n",
    "    if(no_dup):\n",
    "        no_duplicate_books.append(book)  #add to new list if not already there\n",
    "        \n",
    "books = no_duplicate_books #set original list to new list , in essence removing the duplicates\n",
    "print(\"The book after removing any duplicates are:\\n\",books)"
   ]
  },
  {
   "cell_type": "code",
   "execution_count": 14,
   "id": "cd3973bf",
   "metadata": {},
   "outputs": [
    {
     "name": "stdout",
     "output_type": "stream",
     "text": [
      "Catalog sorted by number of pages:\n",
      " [('Vijay', 'The 4th book', 444456, 2007, 104), ('Arvind', 'The 2nd epic book', 223456, 2005, 101), ('Rama', 'The epic book', 123456, 2004, 100), ('raadhes', 'thebook', 2898789, 2004, 100)]\n"
     ]
    }
   ],
   "source": [
    "#(f) Sort in descending by number of pages\n",
    "def num_pages(book):\n",
    "    return book[-1]\n",
    "books.sort(reverse = True,key = num_pages)\n",
    "#We use sort function for lists with key argument \n",
    "#we are passing function which returns the number of pages of a book\n",
    "print(\"Catalog sorted by number of pages:\\n\",books)"
   ]
  },
  {
   "cell_type": "markdown",
   "id": "f5cdca8b",
   "metadata": {},
   "source": [
    "<font size = 4>**QUESTION 2**</font>"
   ]
  },
  {
   "cell_type": "markdown",
   "id": "5fc32eaf",
   "metadata": {},
   "source": [
    "a) To add the corresponding elements of two lists and print the new list.\n",
    "\n",
    "b) To perform element wise multiplication of two lists and print the new list.\n",
    "\n",
    "c) To create a list of the unique characters of a given string. "
   ]
  },
  {
   "cell_type": "code",
   "execution_count": 29,
   "id": "d6663d8e",
   "metadata": {},
   "outputs": [
    {
     "name": "stdout",
     "output_type": "stream",
     "text": [
      "List which is element wise sum of 2 lists:\n",
      " [8, 10, 12, 14, 16, 18]\n"
     ]
    }
   ],
   "source": [
    "#(a)\n",
    "list1 = [1,2,3,4,5,6]\n",
    "list2 = [7,8,9,10,11,12]\n",
    "length = 6\n",
    "new_list = [list1[i]+list2[i] for i in range(length)]\n",
    "print(\"List which is element wise sum of 2 lists:\\n\",new_list)"
   ]
  },
  {
   "cell_type": "code",
   "execution_count": 30,
   "id": "5218e04c",
   "metadata": {},
   "outputs": [
    {
     "name": "stdout",
     "output_type": "stream",
     "text": [
      "List which is element wise product of 2 lists:\n",
      " [7, 16, 27, 40, 55, 72]\n"
     ]
    }
   ],
   "source": [
    "#(b)\n",
    "list1 = [1,2,3,4,5,6]\n",
    "list2 = [7,8,9,10,11,12]\n",
    "length = 6\n",
    "new_list = [list1[i]*list2[i] for i in range(length)]\n",
    "print(\"List which is element wise product of 2 lists:\\n\",new_list)"
   ]
  },
  {
   "cell_type": "code",
   "execution_count": 15,
   "id": "1bdf69ef",
   "metadata": {},
   "outputs": [
    {
     "name": "stdout",
     "output_type": "stream",
     "text": [
      "Please input a string of one wordjbjfkjdsbf\n",
      "The unique characters as list are:\n",
      " ['j', 'b', 'f', 'k', 'd', 's']\n"
     ]
    }
   ],
   "source": [
    "strin = input(\"Please input a string of one word\")\n",
    "strin.replace(\" \",\"\")\n",
    "\n",
    "char_list = []\n",
    "[char_list.append(x) for x in strin if(x not in char_list)]\n",
    "print(\"The unique characters as list are:\\n\",char_list)"
   ]
  },
  {
   "cell_type": "markdown",
   "id": "6cc1417a",
   "metadata": {},
   "source": [
    "<font size = 4>**QUESTION3**</font>"
   ]
  },
  {
   "cell_type": "markdown",
   "id": "6ae9bf3f",
   "metadata": {},
   "source": [
    "a) To add the elements of 2 matrices (Define matrices as per your wish).\n",
    "\n",
    "b) To perform element wise multiplication on 2 matrices."
   ]
  },
  {
   "cell_type": "code",
   "execution_count": 16,
   "id": "e413ffa3",
   "metadata": {},
   "outputs": [
    {
     "name": "stdout",
     "output_type": "stream",
     "text": [
      "element wise addition:\n",
      " [[2, 4, 6], [8, 10, 12], [14, 16, 18]]\n"
     ]
    }
   ],
   "source": [
    "#(a)\n",
    "matrice1 = [[1,2,3],[4,5,6],[7,8,9]]\n",
    "matrice2 = [[1,2,3],[4,5,6],[7,8,9]]\n",
    "matrice_add = []\n",
    "\n",
    "for row in zip(matrice1,matrice2):\n",
    "    temp_row = []\n",
    "    for pair in zip(row[0],row[1]):\n",
    "        temp_row += [pair[0]+pair[1]]\n",
    "    matrice_add += [temp_row]\n",
    "print(\"element wise addition:\\n\",matrice_add)"
   ]
  },
  {
   "cell_type": "code",
   "execution_count": 17,
   "id": "8e534f05",
   "metadata": {},
   "outputs": [
    {
     "name": "stdout",
     "output_type": "stream",
     "text": [
      "element wise multiplication:\n",
      " [[1, 4, 9], [16, 25, 36], [49, 64, 81]]\n"
     ]
    }
   ],
   "source": [
    "#(b)\n",
    "matrice1 = [[1,2,3],[4,5,6],[7,8,9]]\n",
    "matrice2 = [[1,2,3],[4,5,6],[7,8,9]]\n",
    "matrice_mult = []\n",
    "\n",
    "for row in zip(matrice1,matrice2):\n",
    "    temp_row = []\n",
    "    for pair in zip(row[0],row[1]):\n",
    "        temp_row += [pair[0]*pair[1]]\n",
    "    matrice_mult += [temp_row]\n",
    "\n",
    "print(\"element wise multiplication:\\n\",matrice_mult)"
   ]
  },
  {
   "cell_type": "markdown",
   "id": "ab678feb",
   "metadata": {},
   "source": [
    "<font size = 4>**QUESTION 4**</font>"
   ]
  },
  {
   "cell_type": "markdown",
   "id": "24d41920",
   "metadata": {},
   "source": [
    "a) WAP to print the row sum, column sum and trace of the matrix \n",
    "\n",
    "b) WAP to print the transpose of the matrix.\n",
    "\n",
    "c) WAP to check whether the given matrix is symmetric or not.\n",
    "\n",
    "d) WAP to check whether the Identity matrix (I) is positive definite or not by using Quadratic form method (x^T*I*x > 0), where x is any non zero vector."
   ]
  },
  {
   "cell_type": "code",
   "execution_count": 18,
   "id": "2e360a92",
   "metadata": {},
   "outputs": [
    {
     "name": "stdout",
     "output_type": "stream",
     "text": [
      "The row sums are: [3, 6, 9]\n"
     ]
    }
   ],
   "source": [
    "matrice = [[1,2,3],[4,5,6],[7,8,9]]\n",
    "#(a)\n",
    "row_sum_list = []\n",
    "for row in matrice:\n",
    "    tempsum = 0\n",
    "    for ele in row:\n",
    "        tempsum += ele\n",
    "    row_sum_list.append(ele)\n",
    "\n",
    "print(\"The row sums are:\",row_sum_list)"
   ]
  },
  {
   "cell_type": "code",
   "execution_count": 19,
   "id": "83c01e0e",
   "metadata": {},
   "outputs": [
    {
     "name": "stdout",
     "output_type": "stream",
     "text": [
      "The column sum are: [12, 15, 18]\n"
     ]
    }
   ],
   "source": [
    "matrice = [[1,2,3],[4,5,6],[7,8,9]]\n",
    "n = len(matrice)\n",
    "col_sum_list = []\n",
    "for i in range(n):\n",
    "    tempsum = 0\n",
    "    for j in range(n):\n",
    "        tempsum += matrice[j][i]\n",
    "    col_sum_list.append(tempsum)\n",
    "\n",
    "print(\"The column sum are:\",col_sum_list)"
   ]
  },
  {
   "cell_type": "code",
   "execution_count": 2,
   "id": "ae6e14a6",
   "metadata": {},
   "outputs": [
    {
     "name": "stdout",
     "output_type": "stream",
     "text": [
      "The trace is: 15\n"
     ]
    }
   ],
   "source": [
    "matrice = [[1,2,3],[4,5,6],[7,8,9]]\n",
    "n = len(matrice)\n",
    "trace = 0\n",
    "for i in range(n):\n",
    "    trace += matrice[i][i]\n",
    "    \n",
    "print(\"The trace is:\",trace)"
   ]
  },
  {
   "cell_type": "code",
   "execution_count": 4,
   "id": "76449e8c",
   "metadata": {},
   "outputs": [
    {
     "name": "stdout",
     "output_type": "stream",
     "text": [
      "[[1, 4, 7], [2, 5, 8], [3, 6, 9]]\n"
     ]
    }
   ],
   "source": [
    "#(b)\n",
    "transpose = [list(col) for col in zip(*matrice)]\n",
    "#This works as each row is passed a =s iterables to the zip function which generates tuples of each column elements which we make into rows in our transpose\n",
    "print(transpose)"
   ]
  },
  {
   "cell_type": "code",
   "execution_count": 22,
   "id": "14b0ce4c",
   "metadata": {},
   "outputs": [
    {
     "name": "stdout",
     "output_type": "stream",
     "text": [
      "matrice1 is symmetric? : False\n",
      "matrice2 is symmetric? : True\n"
     ]
    }
   ],
   "source": [
    "#(c)\n",
    "matrice1 = [[1,2,3],[4,5,6],[7,8,9]]\n",
    "matrice2 = [[1,2,3],[2,3,4],[3,4,5]]\n",
    "def is_sym(matrice):\n",
    "    check = False\n",
    "    n = len(matrice)\n",
    "    for i in range(n):\n",
    "        for j in range(n):\n",
    "            if(matrice[i][j] != matrice[j][i]):\n",
    "                return False\n",
    "    return True\n",
    "\n",
    "print(\"matrice1 is symmetric? :\",is_sym(matrice1))\n",
    "print(\"matrice2 is symmetric? :\",is_sym(matrice2))"
   ]
  },
  {
   "cell_type": "code",
   "execution_count": 40,
   "id": "d2e89977",
   "metadata": {},
   "outputs": [
    {
     "name": "stdout",
     "output_type": "stream",
     "text": [
      "True\n"
     ]
    }
   ],
   "source": [
    "#(d)\n",
    "def is_positive(x):\n",
    "    n = len(x) #x is any col vector\n",
    "    identity = []\n",
    "    identity = [[int(i==j) for j in range(n)]for i in range(n)]\n",
    "    #Above we create identity matrice using list comprehensions\n",
    "    product = []\n",
    "    \n",
    "    for j in range(n):\n",
    "        tempsum = 0;\n",
    "        for k in range(n):\n",
    "            tempsum += x[k]*identity[k][j]\n",
    "        product += [tempsum]\n",
    "        \n",
    "    sum = 0\n",
    "    for i in range(n):\n",
    "        sum += product[i]*x[i]\n",
    "    return sum > 0\n",
    "    \n",
    "print(is_positive([1,2,-3,-10]))    "
   ]
  },
  {
   "cell_type": "code",
   "execution_count": 23,
   "id": "38fc8abe",
   "metadata": {},
   "outputs": [
    {
     "name": "stdout",
     "output_type": "stream",
     "text": [
      "[[1, 0, 0, 0, 0], [0, 1, 0, 0, 0], [0, 0, 1, 0, 0], [0, 0, 0, 1, 0], [0, 0, 0, 0, 1]]\n"
     ]
    }
   ],
   "source": [
    "#check for identity matrice creation which is in above question\n",
    "identity = [[int(i==j) for j in range(5)]for i in range(5)]\n",
    "print(identity)"
   ]
  },
  {
   "cell_type": "markdown",
   "id": "e4493fb2",
   "metadata": {},
   "source": [
    "<font size = 4>**QUESTION 5**</font>\n",
    "\n",
    "List of Lists : WAP to remove sub lists from a given list of lists that contain an element outside a given range."
   ]
  },
  {
   "cell_type": "code",
   "execution_count": 25,
   "id": "c28bcd1d",
   "metadata": {},
   "outputs": [
    {
     "name": "stdout",
     "output_type": "stream",
     "text": [
      "Give appropriate range: 1 5\n",
      "[[3], [1, 3, 2]]\n"
     ]
    }
   ],
   "source": [
    "a,b = input(\"Give appropriate range: \").split()\n",
    "a = int(a)\n",
    "b = int(b)\n",
    "\n",
    "\n",
    "list_o_lists = [[3], [1, 3, 2], [0, 1, 9, 3, 5, 7], [9, 10], [13, 14, 16, 17]]\n",
    "new_list = []\n",
    "\n",
    "for sub_list in list_o_lists: #iterate through the list of lists\n",
    "    to_remove = False         #flag that tells us to remove the list or not\n",
    "    for x in sub_list:        \n",
    "        if(x < a or x > b): \n",
    "            to_remove = True  #flag set to true if the sub list is following condition to remove\n",
    "    if(not to_remove):\n",
    "        new_list.append(sub_list)  #append sub list to a new list \n",
    "        \n",
    "list_o_lists = new_list       #set the original list = new list , in essence removing the required sub lists\n",
    "print(list_o_lists)"
   ]
  },
  {
   "cell_type": "code",
   "execution_count": null,
   "id": "79587ef6",
   "metadata": {},
   "outputs": [],
   "source": []
  }
 ],
 "metadata": {
  "kernelspec": {
   "display_name": "Python 3 (ipykernel)",
   "language": "python",
   "name": "python3"
  },
  "language_info": {
   "codemirror_mode": {
    "name": "ipython",
    "version": 3
   },
   "file_extension": ".py",
   "mimetype": "text/x-python",
   "name": "python",
   "nbconvert_exporter": "python",
   "pygments_lexer": "ipython3",
   "version": "3.11.3"
  }
 },
 "nbformat": 4,
 "nbformat_minor": 5
}
