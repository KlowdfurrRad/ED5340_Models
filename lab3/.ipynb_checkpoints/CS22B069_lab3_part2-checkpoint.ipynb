{
 "cells": [
  {
   "cell_type": "markdown",
   "id": "907a5c61",
   "metadata": {},
   "source": [
    "<font size = 5>**LAB 3 PART 2**</font>\n",
    "\n",
    "<font size = 4>**QUESTION 6**</font>"
   ]
  },
  {
   "cell_type": "markdown",
   "id": "3b5a508e",
   "metadata": {},
   "source": [
    "a) To generate a list containing the squares of elements from list1.\n",
    "\n",
    "b) To generate a list containing pairwise corresponding elements in the form of tuple.\n",
    "\n",
    "c) To generate a list containing all possible combinations of elements from the two lists.\n",
    "\n",
    "d) To generate a list containing elements of list1 and list2 alternatively."
   ]
  },
  {
   "cell_type": "code",
   "execution_count": 1,
   "id": "ac9f5b01",
   "metadata": {},
   "outputs": [
    {
     "name": "stdout",
     "output_type": "stream",
     "text": [
      "Squares of number in list1: [1, 4, 9, 16, 25, 36]\n",
      "Pairs of elements in list1 and list2:  [(1, 'a'), (2, 'b'), (3, 'c'), (4, 'd'), (5, 'e'), (6, 'f')]\n",
      "All combinations:  [(1, 'a'), (1, 'b'), (1, 'c'), (1, 'd'), (1, 'e'), (1, 'f'), (2, 'a'), (2, 'b'), (2, 'c'), (2, 'd'), (2, 'e'), (2, 'f'), (3, 'a'), (3, 'b'), (3, 'c'), (3, 'd'), (3, 'e'), (3, 'f'), (4, 'a'), (4, 'b'), (4, 'c'), (4, 'd'), (4, 'e'), (4, 'f'), (5, 'a'), (5, 'b'), (5, 'c'), (5, 'd'), (5, 'e'), (5, 'f'), (6, 'a'), (6, 'b'), (6, 'c'), (6, 'd'), (6, 'e'), (6, 'f')]\n",
      "Alternate elements in list1 and list2:  [1, 'a', 2, 'b', 3, 'c', 4, 'd', 5, 'e', 6, 'f']\n"
     ]
    }
   ],
   "source": [
    "#(a,b,c,d)\n",
    "list1 = [1,2,3,4,5,6]\n",
    "list2 = ['a','b','c','d','e','f']\n",
    "\n",
    "squares = [num*num for num in list1]\n",
    "print(\"Squares of number in list1:\",squares)\n",
    "\n",
    "tuples = [tup for tup in zip(list1,list2)]\n",
    "print(\"Pairs of elements in list1 and list2: \",tuples)\n",
    "\n",
    "all_comb = [(x,y) for x in list1 for y in list2]\n",
    "print(\"All combinations: \",all_comb)\n",
    "\n",
    "alternate = [ele for tup in zip(list1,list2) for ele in tup] \n",
    "print(\"Alternate elements in list1 and list2: \",alternate)\n"
   ]
  },
  {
   "cell_type": "markdown",
   "id": "96d3bb51",
   "metadata": {},
   "source": [
    "<font size = 4>**QUESTION 7**</font>\n",
    "\n",
    "Find out the applicable methods for the list but not tuples. List them out."
   ]
  },
  {
   "cell_type": "markdown",
   "id": "a9c96fac",
   "metadata": {},
   "source": [
    "The theory part of the question has been **written** and uploaded along with this ipynb file."
   ]
  },
  {
   "cell_type": "code",
   "execution_count": 11,
   "id": "e2fb5e53",
   "metadata": {},
   "outputs": [
    {
     "data": {
      "text/plain": [
       "[2, 3, 3, 4, 5]"
      ]
     },
     "execution_count": 11,
     "metadata": {},
     "output_type": "execute_result"
    }
   ],
   "source": [
    "list1 = [1,2,3,4,5]\n",
    "list1.append(6)\n",
    "list1.remove(1)\n",
    "list1.pop()\n",
    "list1.insert(4,3)\n",
    "list1.reverse()\n",
    "list1.sort()\n",
    "list1\n",
    "#These methods are not applicable to tuples"
   ]
  },
  {
   "cell_type": "markdown",
   "id": "285d712b",
   "metadata": {},
   "source": [
    "<font size = 4>**QUESTION 8**</font>\n",
    "\n",
    "Write a code snippet in Python that takes a string as input and returns a tuple of tuples. Each inner tuple should contain a character from the input string and its corresponding ASCII value."
   ]
  },
  {
   "cell_type": "code",
   "execution_count": 8,
   "id": "13ce4950",
   "metadata": {},
   "outputs": [
    {
     "name": "stdout",
     "output_type": "stream",
     "text": [
      "jhvdhjvbs\n"
     ]
    },
    {
     "data": {
      "text/plain": [
       "(('j', 106),\n",
       " ('h', 104),\n",
       " ('v', 118),\n",
       " ('d', 100),\n",
       " ('h', 104),\n",
       " ('j', 106),\n",
       " ('v', 118),\n",
       " ('b', 98),\n",
       " ('s', 115))"
      ]
     },
     "execution_count": 8,
     "metadata": {},
     "output_type": "execute_result"
    }
   ],
   "source": [
    "strin = input()\n",
    "tup_tup = tuple((char,ord(char)) for char in strin)\n",
    "tup_tup"
   ]
  },
  {
   "cell_type": "markdown",
   "id": "e8201518",
   "metadata": {},
   "source": [
    "<font size = 4>**QUESTION 9**</font>\n",
    "\n",
    "Create a program that takes a list of tuples containing student name and roll number and returns a new list of tuples containing only those tuples whose first element is a vowel (a, e, i, o, u, A, E, I, O, U)."
   ]
  },
  {
   "cell_type": "code",
   "execution_count": 9,
   "id": "94dc4eff",
   "metadata": {},
   "outputs": [
    {
     "data": {
      "text/plain": [
       "[('aditya', 79897)]"
      ]
     },
     "execution_count": 9,
     "metadata": {},
     "output_type": "execute_result"
    }
   ],
   "source": [
    "students = [('aditya',79897),(\"raadhes\",9693)]\n",
    "vowels = ['a','e','i','o','u']\n",
    "new_students = [tup for tup in students if (tup[0][0].lower() in vowels)]\n",
    "new_students"
   ]
  },
  {
   "cell_type": "markdown",
   "id": "120bea7d",
   "metadata": {},
   "source": [
    "<font size = 4>**QUESTION 10**</font>\n",
    "\n",
    "Create a set of all numbers between 1 and 20 that are either divisible by 3 or 5, using set comprehension."
   ]
  },
  {
   "cell_type": "code",
   "execution_count": 10,
   "id": "3190d433",
   "metadata": {},
   "outputs": [
    {
     "name": "stdout",
     "output_type": "stream",
     "text": [
      "{0, 3, 5, 6, 9, 10, 12, 15, 18, 20}\n"
     ]
    }
   ],
   "source": [
    "my_Set = {x for x in range(21) if x%5 == 0 or x%3 == 0}\n",
    "print(my_Set)"
   ]
  },
  {
   "cell_type": "markdown",
   "id": "718770a6",
   "metadata": {},
   "source": [
    "<font size = 4>**QUESTION 11**</font>\n",
    "\n",
    "What is a frozenset()? Give examples.\n",
    "\n",
    "The theory part of the question has been **written** and uploaded along with this ipynb file."
   ]
  },
  {
   "cell_type": "code",
   "execution_count": 11,
   "id": "fbd6fcb0",
   "metadata": {},
   "outputs": [
    {
     "name": "stdout",
     "output_type": "stream",
     "text": [
      "frozenset({'o', 'e', 'l', 'h'})\n",
      "frozenset({1, 2, 3, 4})\n"
     ]
    }
   ],
   "source": [
    "#Below are examples of frozensets\n",
    "print(frozenset(\"hello\"))\n",
    "print(frozenset([1,2,2,3,4,3]))"
   ]
  },
  {
   "cell_type": "code",
   "execution_count": 12,
   "id": "8235e0ff",
   "metadata": {},
   "outputs": [
    {
     "name": "stdout",
     "output_type": "stream",
     "text": [
      "{frozenset({2, 3, 4}), frozenset({0, 1, 2}), frozenset({3, 4, 5}), frozenset({1, 2, 3}), frozenset({4, 5, 6})}\n"
     ]
    }
   ],
   "source": [
    "#set of frozensets\n",
    "\n",
    "s = {frozenset({i,i+1,i+2}) for i in range(5)}\n",
    "print(s)"
   ]
  },
  {
   "cell_type": "code",
   "execution_count": null,
   "id": "1c7142b6",
   "metadata": {},
   "outputs": [],
   "source": []
  }
 ],
 "metadata": {
  "kernelspec": {
   "display_name": "Python 3 (ipykernel)",
   "language": "python",
   "name": "python3"
  },
  "language_info": {
   "codemirror_mode": {
    "name": "ipython",
    "version": 3
   },
   "file_extension": ".py",
   "mimetype": "text/x-python",
   "name": "python",
   "nbconvert_exporter": "python",
   "pygments_lexer": "ipython3",
   "version": "3.11.3"
  }
 },
 "nbformat": 4,
 "nbformat_minor": 5
}
