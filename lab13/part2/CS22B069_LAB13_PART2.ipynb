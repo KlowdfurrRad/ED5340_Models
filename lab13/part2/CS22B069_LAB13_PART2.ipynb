{
 "cells": [
  {
   "cell_type": "markdown",
   "id": "f345b734",
   "metadata": {},
   "source": [
    "<font size = 5>**LAB 13 PART2**</font>"
   ]
  },
  {
   "cell_type": "markdown",
   "id": "d169c687",
   "metadata": {},
   "source": [
    "3) Taking any two classes from the above data, add labels to them (0 or 1) and create a new csv file. Split the data into Train / Test set as 70/30. (a) Plot the decision boundary using the developed logistic regression code (either with or without regularization) from one of your previous labs. (b) Evaluate the metrics such as Precision, Recall, F1-Score and Accuracy on the test data without using any library.  (10 marks)"
   ]
  },
  {
   "cell_type": "code",
   "execution_count": 51,
   "id": "6bfbafcf",
   "metadata": {},
   "outputs": [],
   "source": [
    "import numpy as np\n",
    "import pandas as pd\n",
    "import matplotlib.pyplot as plt"
   ]
  },
  {
   "cell_type": "code",
   "execution_count": 52,
   "id": "a7311b5d",
   "metadata": {},
   "outputs": [],
   "source": [
    "np.random.seed(25)\n",
    "\n",
    "#Below generates a point given centre (x,y) and radius\n",
    "#I am looping so that the points are generated with uniform distribution across the circle\n",
    "\n",
    "def gen_circle_point(x,y,r,target):\n",
    "    while(True):\n",
    "        x1 = np.random.uniform(-r,r)\n",
    "        y1 = np.random.uniform(-r,r)\n",
    "        if(x1**2 + y1**2 < r**2):\n",
    "            return list([x+x1,y+y1,target])\n",
    "    \n",
    "\n",
    "#Below generates OUR required data -- TWO classes Exactly\n",
    "def gen_data():\n",
    "    lst = []\n",
    "    for i in range(10):\n",
    "        lst.append(gen_circle_point(3,3,2,0))\n",
    "    for i in range(10):\n",
    "        lst.append(gen_circle_point(7,7,2,1))\n",
    "    df = pd.DataFrame(lst,columns=[\"x\",\"y\",\"target\"])\n",
    "    df.to_csv(\"data.csv\")\n",
    "    \n",
    "gen_data()"
   ]
  },
  {
   "cell_type": "code",
   "execution_count": 53,
   "id": "830c0b22",
   "metadata": {},
   "outputs": [],
   "source": [
    "\n",
    "#Read the dataframe\n",
    "df = pd.read_csv(\"data.csv\",usecols = [\"x\",\"y\",\"target\"])\n",
    "\n",
    "#Shuffle the dataframe\n",
    "df = df.sample(frac = 1).reset_index(drop=True)\n",
    "\n",
    "#Get the features and split\n",
    "X_train = np.array(df[[\"x\",\"y\"]])[:14]\n",
    "X_train = X_train.T\n",
    "#Add the x0 feature\n",
    "ones = np.ones(14)\n",
    "X_train = np.concatenate(([ones],X_train),axis = 0)\n",
    "\n",
    "#Get the test features\n",
    "X_test = np.array(df[[\"x\",\"y\"]])[14:]\n",
    "X_test = X_test.T\n",
    "ones = np.ones(6)\n",
    "X_test = np.concatenate(([ones],X_test),axis = 0)\n",
    "\n",
    "#--------------------------------------------------------------\n",
    "\n",
    "#Target splitting \n",
    "target_train = np.array(df[\"target\"])[:14]\n",
    "target_train = target_train.reshape((1,14))\n",
    "target_test = np.array(df[\"target\"])[14:]\n",
    "target_test = target_test.reshape((1,6))\n",
    "\n"
   ]
  },
  {
   "cell_type": "markdown",
   "id": "662d78ac",
   "metadata": {},
   "source": [
    "(a) Plot the decision boundary using the developed logistic regression code (either with or without regularization) from one of your previous labs"
   ]
  },
  {
   "cell_type": "code",
   "execution_count": 54,
   "id": "11c9f71a",
   "metadata": {},
   "outputs": [],
   "source": [
    "\n",
    "#sigmoid function\n",
    "def sigmoid(z):\n",
    "    return 1/(1 + np.exp(-z))\n",
    "\n",
    "#Found the loss and gradient as done in lectures\n",
    "def loss_log(w,x,y):\n",
    "    m = x.shape[0]\n",
    "    \n",
    "    sig_arr = sigmoid(w@x)\n",
    "    losses = -y*np.log(sig_arr)-(1-y)*np.log(1-sig_arr)\n",
    "    \n",
    "    return np.sum(losses)/(2*m)\n",
    "\n",
    "def grad_log(w,x,y):\n",
    "    pred = sigmoid(w@x)\n",
    "    m = x.shape[0]\n",
    "    return ((pred-y)@x.T)/m\n",
    "    \n",
    "class log_reg:\n",
    "    def __init__(self,x,y):\n",
    "        self.x = x\n",
    "        self.y = y\n",
    "    def gradient_descent(self,num_iter,alpha):\n",
    "        losses = []\n",
    "        n = self.x.shape[0]\n",
    "        m = self.x.shape[1] \n",
    "        w = np.random.rand(1,n) #initially set random weights \n",
    "        for i in range(0,num_iter):\n",
    "            losses.append(loss_log(w,self.x,self.y))\n",
    "            grad = grad_log(w,self.x,self.y)\n",
    "            w = w - grad*alpha\n",
    "        return w,losses\n"
   ]
  },
  {
   "cell_type": "code",
   "execution_count": 56,
   "id": "75f77a65",
   "metadata": {},
   "outputs": [
    {
     "name": "stdout",
     "output_type": "stream",
     "text": [
      "[[0. 0. 1. 0. 1. 1.]] [[0 0 1 0 1 1]]\n"
     ]
    }
   ],
   "source": [
    "\n",
    "#Gradient descent\n",
    "\n",
    "model = log_reg(X_train,target_train)\n",
    "weights,losses = model.gradient_descent(10000,0.001)\n",
    "\n",
    "#Find the predicted test target classes from the test features\n",
    "predicted = weights@X_test\n",
    "for i in range(6):\n",
    "    if(predicted[0][i] < 0.5):\n",
    "        predicted[0][i] = 0\n",
    "    else:\n",
    "        predicted[0][i] = 1\n",
    "        \n",
    "print(predicted,target_test)\n"
   ]
  },
  {
   "cell_type": "markdown",
   "id": "f1c587cc",
   "metadata": {},
   "source": []
  },
  {
   "cell_type": "code",
   "execution_count": 59,
   "id": "d3c15154",
   "metadata": {},
   "outputs": [
    {
     "data": {
      "text/plain": [
       "[<matplotlib.lines.Line2D at 0x2391ff8c1d0>]"
      ]
     },
     "execution_count": 59,
     "metadata": {},
     "output_type": "execute_result"
    },
    {
     "data": {
      "image/png": "[encoded data removed]",
      "text/plain": [
       "<Figure size 640x480 with 1 Axes>"
      ]
     },
     "metadata": {},
     "output_type": "display_data"
    }
   ],
   "source": [
    "\n",
    "df1 = df[df[\"target\"] == 0]\n",
    "df2 = df[df[\"target\"] == 1]\n",
    "\n",
    "#Plot the points x1 versus x2\n",
    "plt.scatter(np.array(df1[\"x\"]),np.array(df1[\"y\"]),color = \"blue\",label = \"y = 0\")\n",
    "plt.scatter(np.array(df2[\"x\"]),np.array(df2[\"y\"]),color = \"red\",label = \"y = 1\")\n",
    "plt.title(\"Decision Boundary with all datapoints of 2 classes plotted\")\n",
    "plt.xlabel(\"x\")\n",
    "plt.ylabel(\"y\")\n",
    "\n",
    "plt.legend()\n",
    "\n",
    "\n",
    "\n",
    "#Plotting the boundary now\n",
    "# w0 + w1x + w2y = 0\n",
    "# y = -w1/w2 x - w0 /w2\n",
    "\n",
    "m = -weights[0][1]/weights[0][2]\n",
    "c = -weights[0][0]/weights[0][2]\n",
    "linex = np.linspace(0,8,100)\n",
    "liney = linex*m + c\n",
    "plt.plot(linex,liney)\n"
   ]
  },
  {
   "cell_type": "markdown",
   "id": "04b45e51",
   "metadata": {},
   "source": [
    " (b) Evaluate the metrics such as Precision, Recall, F1-Score and Accuracy on the test data without using any library."
   ]
  },
  {
   "cell_type": "code",
   "execution_count": 58,
   "id": "5c3eedb2",
   "metadata": {},
   "outputs": [
    {
     "name": "stdout",
     "output_type": "stream",
     "text": [
      "Precision: 1.0\n",
      "Recall: 1.0\n",
      "F1_score: 1.0\n",
      "Accuracy: 1.0\n"
     ]
    }
   ],
   "source": [
    "\n",
    "#Evaluation metrics on the test data -- has only 6 samples\n",
    "\n",
    "True_Positive = 0\n",
    "False_Positive = 0\n",
    "True_Negative = 0\n",
    "False_Negative = 0\n",
    "\n",
    "for i in range(6):\n",
    "    if(predicted[0][i] == 1 and target_test[0][i] == 1):\n",
    "        True_Positive = 1 + True_Positive\n",
    "    elif(predicted[0][i] == 1 and target_test[0][i] == 0):\n",
    "        False_Positive = 1 + False_Positive\n",
    "    elif(predicted[0][i] == 0 and target_test[0][i] == 0):\n",
    "        True_Negative = 1 + True_Negative\n",
    "    else:\n",
    "        False_Negative = 1 + False_Negative\n",
    "\n",
    "\n",
    "Precision = True_Positive/(True_Positive + False_Positive)\n",
    "Recall = True_Positive/(True_Positive + False_Negative)\n",
    "F1_score = 2*Precision*Recall/(Precision+Recall)\n",
    "Accuracy = (True_Positive+True_Negative)/(True_Positive + True_Negative + False_Negative + False_Positive)\n",
    "\n",
    "print(f'''Precision: {Precision}\n",
    "Recall: {Recall}\n",
    "F1_score: {F1_score}\n",
    "Accuracy: {Accuracy}''')"
   ]
  },
  {
   "cell_type": "code",
   "execution_count": null,
   "id": "5bee65fe",
   "metadata": {},
   "outputs": [],
   "source": []
  }
 ],
 "metadata": {
  "kernelspec": {
   "display_name": "Python 3 (ipykernel)",
   "language": "python",
   "name": "python3"
  },
  "language_info": {
   "codemirror_mode": {
    "name": "ipython",
    "version": 3
   },
   "file_extension": ".py",
   "mimetype": "text/x-python",
   "name": "python",
   "nbconvert_exporter": "python",
   "pygments_lexer": "ipython3",
   "version": "3.11.3"
  }
 },
 "nbformat": 4,
 "nbformat_minor": 5
}
