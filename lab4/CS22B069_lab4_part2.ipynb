{
 "cells": [
  {
   "cell_type": "markdown",
   "id": "813569a1",
   "metadata": {},
   "source": [
    "<font size = 5>**LAB 4 PART 2**</font>"
   ]
  },
  {
   "cell_type": "markdown",
   "id": "7eeb77fa",
   "metadata": {},
   "source": [
    "<font size = 4>**QUESTION 6**</font>\n",
    "\n",
    "6. Store the employee IDs, names, salaries, and years of experience using nested dictionaries (the key of the highest level dictionary can be the employee ID). \n",
    "\n",
    "a) Sort this dictionary using the salary value. \n",
    "\n",
    "b) Add a new employee to the dictionary in the correct position (sorted as mentioned above)."
   ]
  },
  {
   "cell_type": "code",
   "execution_count": 6,
   "id": "f780e536",
   "metadata": {},
   "outputs": [
    {
     "name": "stdout",
     "output_type": "stream",
     "text": [
      "{2: {'name': 'Aditya', 'salary': 25000, 'experience': 3}, 1: {'name': 'Ram', 'salary': 30000, 'experience': 4}, 3: {'name': 'Sam', 'salary': 40000, 'experience': 6}}\n"
     ]
    }
   ],
   "source": [
    "#Sorting by salary\n",
    "employees = {1:{\"name\":\"Ram\",\"salary\" : 30000,\"experience\":4},\\\n",
    "             2:{\"name\":\"Aditya\",\"salary\":25000,\"experience\":3},\\\n",
    "             3:{\"name\":\"Sam\",\"salary\":40000,\"experience\":6}}\n",
    "employees = dict(sorted(employees.items(),key = lambda tup : tup[1][\"salary\"]))\n",
    "print(employees)"
   ]
  },
  {
   "cell_type": "code",
   "execution_count": 7,
   "id": "6e9c306d",
   "metadata": {},
   "outputs": [
    {
     "name": "stdout",
     "output_type": "stream",
     "text": [
      "{2: {'name': 'Aditya', 'salary': 25000, 'experience': 3}, 4: {'name': 'Mary', 'salary': 27000, 'experience': 5}, 1: {'name': 'Ram', 'salary': 30000, 'experience': 4}, 3: {'name': 'Sam', 'salary': 40000, 'experience': 6}}\n"
     ]
    }
   ],
   "source": [
    "#Adding a new employee\n",
    "employees[4] = {\"name\":\"Mary\",\"salary\":27000,\"experience\":5}\n",
    "employees = dict(sorted(employees.items(),key = lambda tup : tup[1][\"salary\"]))\n",
    "print(employees)\n"
   ]
  },
  {
   "cell_type": "markdown",
   "id": "3ef44d7f",
   "metadata": {},
   "source": [
    "<font size = 4>**QUESTION 7**</font>\n",
    "\n",
    "\n",
    "7. You are given two Python dictionaries, A and B, with keys as alphabets and values as random integers. Write a Python function to create a third dictionary C, that combines A and B. For common keys, the value in C should be the sum of values from A and B. \n",
    "\n",
    "For example, if dictionary A is {\"a\": 3, \"b\": 5, \"c\": 7} and dictionary B is {\"b\": 2, \"c\": 4, \"d\": 6}, the function should return a dictionary C that looks like {\"a\": 3, \"b\": 7, \"c\": 11, \"d\": 6}."
   ]
  },
  {
   "cell_type": "code",
   "execution_count": 8,
   "id": "b78da2bf",
   "metadata": {},
   "outputs": [
    {
     "name": "stdout",
     "output_type": "stream",
     "text": [
      "{'a': 10, 'b': 40, 'c': 30, 'd': 60, 'f': 30}\n"
     ]
    }
   ],
   "source": [
    "A = {\"a\":10,\"b\":20,\"c\":30,\"d\":20}\n",
    "B = {\"b\":20,\"d\":40,\"f\":30}\n",
    "\n",
    "def combine_dicts(A,B):\n",
    "    combdict = dict(A)\n",
    "    for key in B:\n",
    "        if(key in combdict):\n",
    "            combdict[key] += B[key]\n",
    "        else:\n",
    "            combdict[key] = B[key]\n",
    "    return combdict\n",
    "\n",
    "print(combine_dicts(A,B))\n",
    "    "
   ]
  },
  {
   "cell_type": "markdown",
   "id": "326c722d",
   "metadata": {},
   "source": [
    "<font size = 4>**QUESTION 8**</font>\n",
    "\n",
    "8. Assume you have a list of lists, where each inner list contains two elements: a key and a value. Write a Python function that takes the list of lists as input and returns a list of dictionaries, where each dictionary contains a key-value pair from the original input list."
   ]
  },
  {
   "cell_type": "code",
   "execution_count": 9,
   "id": "82d6551a",
   "metadata": {},
   "outputs": [
    {
     "name": "stdout",
     "output_type": "stream",
     "text": [
      "[{'Apples': 2}, {'Bananas': 3}, {'Pineapples': 1}]\n"
     ]
    }
   ],
   "source": [
    "list_of_lists = [[\"Apples\",2],[\"Bananas\",3],[\"Pineapples\",1]]\n",
    "\n",
    "def listtodict(listolists):\n",
    "    lst1 = []\n",
    "    for sublist in listolists:\n",
    "        lst1.append({sublist[0]:sublist[1]})\n",
    "    \n",
    "    return lst1\n",
    "\n",
    "print(listtodict(list_of_lists))"
   ]
  },
  {
   "cell_type": "markdown",
   "id": "4d395865",
   "metadata": {},
   "source": [
    "<font size = 4>**QUESTION 9**</font>\n",
    "\n",
    "9. Illustrate the usage of positional and keyword arguments using suitable examples.\n"
   ]
  },
  {
   "cell_type": "code",
   "execution_count": 11,
   "id": "46510f0c",
   "metadata": {},
   "outputs": [
    {
     "name": "stdout",
     "output_type": "stream",
     "text": [
      "Square area is 9\n",
      "Square area is 12\n",
      "Circle area is 78.53981633974483\n"
     ]
    }
   ],
   "source": [
    "'''\n",
    "Positional and keyword arguments are types of arguments in fn functions.\n",
    "Positional arguments depend only on the position which they are passed.\n",
    "Keyword arguments are specified with a specific variable name.\n",
    "\n",
    "It is imporant to note that keyword arguments must come after positional arguments.\n",
    "'''\n",
    "\n",
    "import math\n",
    "\n",
    "def area(a,shape,b=0):\n",
    "    if(shape == \"square\"):\n",
    "        return a*a\n",
    "    elif(shape == \"rectangle\"):\n",
    "        return a*b\n",
    "    elif(shape == \"circle\"):\n",
    "        return math.pi*a*a\n",
    "    else:\n",
    "        print(\"Give valid shape name.\")\n",
    "        return 0\n",
    "\n",
    "print(\"Square area is\",area(3,shape = \"square\"))\n",
    "\n",
    "print(\"Square area is\",area(3,b=4,shape = \"rectangle\"))\n",
    "\n",
    "print(\"Circle area is\",area(5,shape = \"circle\"))\n",
    "\n",
    "#Observe that the order of keyword arguments do not matter as the name would be mentionned for identification"
   ]
  },
  {
   "cell_type": "code",
   "execution_count": 12,
   "id": "1d0cafd7",
   "metadata": {},
   "outputs": [
    {
     "name": "stdout",
     "output_type": "stream",
     "text": [
      "1\n",
      "34\n"
     ]
    }
   ],
   "source": [
    "def func(num1,todo,num2):\n",
    "    if(todo == \"max\"):\n",
    "        if(num1 > num2):\n",
    "            return num1\n",
    "        else:\n",
    "            return num2\n",
    "    if(todo == \"min\"):\n",
    "        if(num1 > num2):\n",
    "            return num2\n",
    "        else:\n",
    "            return num1\n",
    "\n",
    "print(func(1,\"min\",num2 = 2))\n",
    "\n",
    "print(func(23,\"max\",num2 = 34))\n",
    "\n",
    "#Keyword arguments should come after positional arguments in the function call "
   ]
  },
  {
   "cell_type": "markdown",
   "id": "76d37b3b",
   "metadata": {},
   "source": [
    "<font size = 4?>**QUESTION 10**</font>\n",
    "\n",
    "10. Write a function to find the maximum of n numbers using variable length positional arguments.\n",
    "\n"
   ]
  },
  {
   "cell_type": "code",
   "execution_count": 13,
   "id": "3c610737",
   "metadata": {},
   "outputs": [
    {
     "name": "stdout",
     "output_type": "stream",
     "text": [
      "50\n"
     ]
    }
   ],
   "source": [
    "def max_num(*args):\n",
    "    cur_max = args[0]\n",
    "    for num in args:\n",
    "        cur_max = cur_max if cur_max > num else num\n",
    "    \n",
    "    return cur_max\n",
    "\n",
    "print(max_num(10,20,30,50,20))\n",
    "        "
   ]
  },
  {
   "cell_type": "markdown",
   "id": "2a2e498a",
   "metadata": {},
   "source": [
    "<font size = 4>**QUESTION 11**</font>\n",
    "\n",
    "11. Write a function to concatenate n strings using variable length keyword arguments.\n",
    "\n"
   ]
  },
  {
   "cell_type": "code",
   "execution_count": 15,
   "id": "bc1f1971",
   "metadata": {},
   "outputs": [
    {
     "name": "stdout",
     "output_type": "stream",
     "text": [
      "hello are you doing?\n"
     ]
    }
   ],
   "source": [
    "#We can also use .join in the concatenate function\n",
    "def conc1(**kwargs):\n",
    "    return \"\".join(kwargs.values())\n",
    "\n",
    "#Below is concatenate function via looping through values of kwargs\n",
    "def concatenate(**kwargs):\n",
    "    strtemp = \"\"\n",
    "    for strin in kwargs.values():\n",
    "        strtemp +=strin\n",
    "    \n",
    "    return strtemp\n",
    "\n",
    "print(concatenate(str1 = \"hello \",str2 = \"are \",str3 = \"you doing?\"))"
   ]
  },
  {
   "cell_type": "code",
   "execution_count": null,
   "id": "78b59939",
   "metadata": {},
   "outputs": [],
   "source": []
  },
  {
   "cell_type": "code",
   "execution_count": null,
   "id": "4eb79128",
   "metadata": {},
   "outputs": [],
   "source": []
  }
 ],
 "metadata": {
  "kernelspec": {
   "display_name": "Python 3 (ipykernel)",
   "language": "python",
   "name": "python3"
  },
  "language_info": {
   "codemirror_mode": {
    "name": "ipython",
    "version": 3
   },
   "file_extension": ".py",
   "mimetype": "text/x-python",
   "name": "python",
   "nbconvert_exporter": "python",
   "pygments_lexer": "ipython3",
   "version": "3.11.3"
  }
 },
 "nbformat": 4,
 "nbformat_minor": 5
}
