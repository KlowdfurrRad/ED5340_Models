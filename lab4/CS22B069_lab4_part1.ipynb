{
 "cells": [
  {
   "cell_type": "markdown",
   "id": "a415c033",
   "metadata": {},
   "source": [
    "<font size = 5>**LAB 4**</font>"
   ]
  },
  {
   "cell_type": "markdown",
   "id": "0302cead",
   "metadata": {},
   "source": [
    "<font size = 4>**Question 1**</font>\n",
    "\n",
    "1. Explore the use and syntax of common built-in functions: \n",
    "\n",
    "range(), \n",
    "\n",
    "iter(), \n",
    "\n",
    "eval(), \n",
    "\n",
    "enumerate(), \n",
    "\n",
    "zip(), \n",
    "\n",
    "lambda, \n",
    "\n",
    "input(), \n",
    "\n",
    "map(), \n",
    "\n",
    "filter(), \n",
    "\n",
    "next()\n",
    "\n",
    "reduce()"
   ]
  },
  {
   "cell_type": "code",
   "execution_count": 1,
   "id": "7c287f13",
   "metadata": {},
   "outputs": [
    {
     "name": "stdout",
     "output_type": "stream",
     "text": [
      "Numbers from 0 to 4:\n",
      "0 1 2 3 4 \n",
      "Numbers from 3 to 5:\n",
      "3 4 5 \n",
      "Even number from 2 to 10:\n",
      "2 4 6 8 10 \n",
      "Numbers in list:\n",
      "1 2 3 4 "
     ]
    }
   ],
   "source": [
    "'''\n",
    "range() generates a series of numbers over which we can iterate over using for loops \n",
    "\n",
    "Syntax: \n",
    "    range(start,end,step_size)\n",
    "> Here start and step_size are optional\n",
    "> Default start = 0;\n",
    "> Default step_Size = 1\n",
    "\n",
    "Description : \n",
    "> Generates series of numbers starting with 'start' until 'end - 1' with numbers increasing with step_size\n",
    "\n",
    "'''\n",
    "\n",
    "#Usage:\n",
    "\n",
    "#To print sequences\n",
    "print(\"Numbers from 0 to 4:\")\n",
    "for num in range(5):\n",
    "    print(num,end = \" \")\n",
    "    \n",
    "print(\"\\nNumbers from 3 to 5:\")\n",
    "for num in range(3,6):\n",
    "    print(num,end = \" \")\n",
    "        \n",
    "print(\"\\nEven number from 2 to 10:\")\n",
    "for num in range(2,11,2):\n",
    "    print(num,end = \" \")\n",
    "    \n",
    "    \n",
    "#To print numbers in list with indexing \n",
    "list1 = [1,2,3,4]\n",
    "print(\"\\nNumbers in list:\")\n",
    "for i in range(len(list1)):\n",
    "    print(list1[i],end = \" \")"
   ]
  },
  {
   "cell_type": "code",
   "execution_count": 2,
   "id": "7c608998",
   "metadata": {},
   "outputs": [
    {
     "name": "stdout",
     "output_type": "stream",
     "text": [
      "r\n",
      "a\n",
      "a\n",
      "d\n",
      "h\n",
      "e\n",
      "s\n",
      "r\n",
      "a\n",
      "a\n",
      "d\n",
      "h\n",
      "e\n",
      "s\n"
     ]
    },
    {
     "data": {
      "text/plain": [
       "'Note that the next() functions returns the current element and moves the iterator forward'"
      ]
     },
     "execution_count": 2,
     "metadata": {},
     "output_type": "execute_result"
    }
   ],
   "source": [
    "'''\n",
    "iter() returns an iterator to object passed to it\n",
    "\n",
    "Syntax:\n",
    "    iter(obj,sentinel)\n",
    "> here obj refers to a list , tuple , set etc.\n",
    "> sentinel refers to the element until which iterator can iterate until\n",
    "> here sentinel is optional\n",
    "\n",
    "Description : \n",
    "> iter(obj,sentinel) returns an iterator to the obj \n",
    "'''\n",
    "\n",
    "name = \"raadhes\"\n",
    "str_iter = iter(name)\n",
    "\n",
    "for x in str_iter:\n",
    "    print(x)\n",
    "\n",
    "name = \"raadhes\"\n",
    "str_iter = iter(name)\n",
    "\n",
    "for i in range(7):\n",
    "    print(next(str_iter))\n",
    "'''Note that the next() functions returns the current element and moves the iterator forward'''\n"
   ]
  },
  {
   "cell_type": "code",
   "execution_count": 3,
   "id": "3be7c4fa",
   "metadata": {},
   "outputs": [
    {
     "name": "stdout",
     "output_type": "stream",
     "text": [
      "3\n",
      "{0, 1, 4, 9}\n"
     ]
    }
   ],
   "source": [
    "'''\n",
    "\n",
    "Syntax : \n",
    "    eval(expr,globals = None,locals = None)\n",
    "> expr is the string expression that we wish to evaluate\n",
    "> globals and locals are optional , can be dictionaries to specify some available methods,variables\n",
    "\n",
    "Description :\n",
    "    eval(expr) evaluates the given expression and returns the value\n",
    "> Evaluates a given python expression that is passed to it, and returns value\n",
    "\n",
    "'''\n",
    "\n",
    "\n",
    "print(eval('1+2'))\n",
    "\n",
    "print(eval('{num*num for num in range(4)}'))"
   ]
  },
  {
   "cell_type": "code",
   "execution_count": 4,
   "id": "078af685",
   "metadata": {},
   "outputs": [
    {
     "name": "stdout",
     "output_type": "stream",
     "text": [
      "indice: 0 , element: apple\n",
      "indice: 1 , element: banana\n",
      "indice: 2 , element: pineapple\n",
      "indice: 3 , element: mango\n"
     ]
    }
   ],
   "source": [
    "'''\n",
    "Syntax :\n",
    "    enumerate(iterable , start = 0)\n",
    "> Here iterable is objects like list , set , tuple\n",
    "> start is by default 0 if not provided (optional)\n",
    "\n",
    "Description :\n",
    "> Returns an enumerate object that combines indices to the iterable object provided with \n",
    " indices starting with 'start'\n",
    "> Useful for iterating over an iterable when indices are also required\n",
    "\n",
    "'''\n",
    "\n",
    "list1 = [\"apple\",\"banana\",\"pineapple\",\"mango\"]\n",
    "for i,ele in enumerate(list1):\n",
    "    print(\"indice:\",i,\", element:\",ele)\n"
   ]
  },
  {
   "cell_type": "code",
   "execution_count": 5,
   "id": "26691b64",
   "metadata": {},
   "outputs": [
    {
     "name": "stdout",
     "output_type": "stream",
     "text": [
      "('Ram', 's1')\n",
      "('Lakshman', 's2')\n",
      "('Bhargav', 's3')\n",
      "('Singh', 's4')\n"
     ]
    }
   ],
   "source": [
    "'''\n",
    "Syntax :\n",
    "    zip( many iterables )\n",
    "\n",
    "Description :\n",
    "> Pairs corresponding elements from the different iterables and returns iterator of tuples\n",
    "> Useful to combine various iterables together\n",
    "\n",
    "'''\n",
    "\n",
    "names = [\"Ram\",\"Lakshman\",\"Bhargav\",\"Singh\"]\n",
    "roll_no = [\"s1\",\"s2\",\"s3\",\"s4\"]\n",
    "\n",
    "for tup in zip(names,roll_no):\n",
    "    print(tup)"
   ]
  },
  {
   "cell_type": "code",
   "execution_count": 7,
   "id": "3fc68412",
   "metadata": {},
   "outputs": [
    {
     "name": "stdout",
     "output_type": "stream",
     "text": [
      "Sorted based on element sum:  [(3, 2), (4, 2), (1, 8), (3, 7), (5, 6)]\n"
     ]
    }
   ],
   "source": [
    "'''\n",
    "Syntax :\n",
    "    lambda args : expression \n",
    "\n",
    "Description :\n",
    "> lambda is used to create anonymous functions for compact programs\n",
    "> It returns a function that takes certain arguments and returns the evaluated expression value\n",
    "\n",
    "> Used to pass a function as an argument when calling another function\n",
    "'''\n",
    "#map filter reduce\n",
    "\n",
    "#sorting, Here list of tuples is sorted based on sum of 2 numbers\n",
    "\n",
    "list1 = [(4,2),(3,2),(5,6),(3,7),(1,8)]\n",
    "list1.sort(key = lambda tup : tup[0] + tup[1])\n",
    "print(\"Sorted based on element sum: \",list1)\n",
    "\n",
    "\n",
    "#Note we will be using lambda functions in map , filter , reduce below !\n"
   ]
  },
  {
   "cell_type": "code",
   "execution_count": 9,
   "id": "920838b0",
   "metadata": {},
   "outputs": [
    {
     "name": "stdout",
     "output_type": "stream",
     "text": [
      "Give integers separated by a space3 4 5\n",
      "12\n"
     ]
    }
   ],
   "source": [
    "'''\n",
    "Syntax :\n",
    "    input(prompt = \"\")\n",
    "> prompt is a string that is displayed when asking input from user\n",
    "> Note prompt string is optional , and the default is \"\"\n",
    "\n",
    "Description :\n",
    "> Prompts user to provide input \n",
    "> Returns the input provided as a string\n",
    "\n",
    "\n",
    "'''\n",
    "\n",
    "list_nums = input(\"Give integers separated by a space\").split()\n",
    "sum = 0\n",
    "for num in list_nums:\n",
    "    sum += int(num)\n",
    "print(sum)"
   ]
  },
  {
   "cell_type": "code",
   "execution_count": 11,
   "id": "2277aacc",
   "metadata": {},
   "outputs": [
    {
     "name": "stdout",
     "output_type": "stream",
     "text": [
      "List of squares of original list:  [1, 4, 9, 16, 25]\n",
      "Sum of corresponding elementsof list1 and list2:  [5, 7, 9, 11, 13, 15]\n"
     ]
    }
   ],
   "source": [
    "'''\n",
    "Syntax :\n",
    "    map(func,*iterables)\n",
    "> func is a function that is passed\n",
    "> iterable like list , set ,tuple etc.\n",
    "[We can pass more than one iterable as well]\n",
    "\n",
    "Description :\n",
    "    map(func,iterable) returns a map object -- \n",
    "> map object is an iterator with results of applying the function to each element of the iterable\n",
    "\n",
    "'''\n",
    "#Note we will also be using lambda functions below\n",
    "\n",
    "#Let's square every element of list\n",
    "\n",
    "list1 = [1,2,3,4,5]\n",
    "list_sqrs = list(map(lambda num : num*num,list1))\n",
    "print(\"List of squares of original list: \",list_sqrs)\n",
    "\n",
    "#We can also pass more than one iterable to map\n",
    "\n",
    "list1 = [1,2,3,4,5,6]\n",
    "list2 = [4,5,6,7,8,9]\n",
    "list_sums = list(map(lambda num1,num2 : num1+num2 , list1,list2))\n",
    "print(\"Sum of corresponding elementsof list1 and list2: \",list_sums)\n"
   ]
  },
  {
   "cell_type": "code",
   "execution_count": 12,
   "id": "bbb71845",
   "metadata": {},
   "outputs": [
    {
     "name": "stdout",
     "output_type": "stream",
     "text": [
      "List of only even elements from the first list:  [2, 4, 6, 4, 6]\n"
     ]
    }
   ],
   "source": [
    "'''\n",
    "Syntax :\n",
    "    filter(func,iterable)\n",
    "> func is a function taking an element of the iterable and returns bool value\n",
    "    \n",
    "Description :\n",
    "    filter(func,iterable) returns a filter object \n",
    "> filter object is an iterator with only the elements from the iterable for whom the function returned true\n",
    "\n",
    "'''\n",
    "\n",
    "#Lets find the even numbers in a list\n",
    "#Note we have also used lambda here\n",
    "\n",
    "list1 = [2,3,4,5,6,7,7,4,5,6]\n",
    "list_even = list(filter(lambda x : x%2 == 0,list1))\n",
    "\n",
    "print(\"List of only even elements from the first list: \",list_even)"
   ]
  },
  {
   "cell_type": "code",
   "execution_count": 13,
   "id": "3110a727",
   "metadata": {},
   "outputs": [
    {
     "name": "stdout",
     "output_type": "stream",
     "text": [
      "1\n",
      "4\n",
      "9\n",
      "16\n",
      "25\n",
      "36\n"
     ]
    }
   ],
   "source": [
    "'''\n",
    "Syntax :\n",
    "    next(iterator object,default_end)\n",
    "> Iterator objects are passed to it\n",
    "> By default the next function raises StopIteration exception when no more items are left to iterate on\n",
    "> If we provide default_end argument , then the function returns this when iterator is exhausted\n",
    "\n",
    "Description :\n",
    "> It returns the next element in sequence of iterator\n",
    "> Also moves the iterator forward by one\n",
    "> Raises StopIteration exception or returns default_end value if provided when it reaches end\n",
    "'''\n",
    "\n",
    "#Many functions like iter ,map, filter , zip return iterators \n",
    "#next function can be used on such iterators\n",
    "\n",
    "#Printing squares of elements using next function\n",
    "\n",
    "list1 = [1,2,3,4,5,6]\n",
    "list_iter = map(lambda num : num*num,list1)\n",
    "\n",
    "while True :\n",
    "    ele = next(list_iter,\"end\")\n",
    "    if(ele != \"end\"):\n",
    "        print(ele)\n",
    "    else:\n",
    "        break"
   ]
  },
  {
   "cell_type": "code",
   "execution_count": 1,
   "id": "7cbee862",
   "metadata": {},
   "outputs": [
    {
     "name": "stdout",
     "output_type": "stream",
     "text": [
      "The words in the list were concatented:\n",
      " This is a sentence\n"
     ]
    }
   ],
   "source": [
    "'''\n",
    "Syntax :\n",
    "    reduce(func,iterable)\n",
    "> func is a function that returns a value based on the two elements\n",
    "\n",
    "Description :\n",
    "> It applies the func to the first two elements of the iterable\n",
    "> Then it applies the func to the previously obtained value and the next element in the iterable\n",
    "> This process continues , It finally returns the value obtained when no more elements are in the iterable\n",
    "\n",
    "'''\n",
    "\n",
    "import functools\n",
    "\n",
    "\n",
    "words = [\"This\",\"is\",\"a\",\"sentence\"]\n",
    "#the lambda function concatenates two strings with a space\n",
    "sentence = functools.reduce(lambda a,b : a +\" \" +b,words)\n",
    "print(\"The words in the list were concatented:\\n\",sentence)"
   ]
  },
  {
   "cell_type": "markdown",
   "id": "b92132c5",
   "metadata": {},
   "source": [
    "<font size = 4>**Question 2**</font>\n",
    "\n",
    "2. Write a Python function that sorts a dictionary based on the length of values.\n",
    "\n",
    "Sample:\n",
    "\n",
    "Input: {'lemon':'yellow','apple':'red'} output: {'apple':'red','lemon':'yellow'}"
   ]
  },
  {
   "cell_type": "code",
   "execution_count": 16,
   "id": "c65ec904",
   "metadata": {},
   "outputs": [
    {
     "name": "stdout",
     "output_type": "stream",
     "text": [
      "{'apple': 'red', 'kiwi': 'green', 'lemon': 'yellow', 'pineapple': 'orange'}\n"
     ]
    }
   ],
   "source": [
    "dct = {'lemon':'yellow','apple':'red',\"pineapple\" : \"orange\",\"kiwi\":\"green\"}\n",
    "\n",
    "def sort_dict(dct):\n",
    "    #Sorting dct based on the length of value , i.e the 2nd element in the tuples stored in it\n",
    "    dct_sorted = sorted(dct.items(),key = lambda tup : len(tup[1]))\n",
    "    return dict(dct_sorted)\n",
    "    \n",
    "print(sort_dict(dct))"
   ]
  },
  {
   "cell_type": "markdown",
   "id": "70e3676e",
   "metadata": {},
   "source": [
    "<font size = 4>**Question 3**</font>\n",
    "\n",
    "3. Develop a Python program that executes the following tasks with a user-provided string:\n",
    "\n",
    "a. Prompt the user to input a string.\n",
    "\n",
    "b. Create a dictionary from the string where each key is a unique alphabet character and the corresponding value is the frequency of that character's occurrence in the string.\n",
    "\n",
    "c. Generate a sorted list of tuples from the dictionary based on character frequency (values).\n",
    "\n",
    "d. Generate a sorted list of tuples from the dictionary based on the alphabet characters (keys).\n",
    "\n",
    "e. Identify the three most frequently occurring characters. In the event of a frequency tie, prioritize characters in lexicographical order.\n",
    "\n",
    "Your program should showcase proficiency in dictionary operations, sorting mechanisms, and handling of ties in frequency counts. Comment your code to outline the process and decisions made.\n",
    "\n",
    "sample:\n",
    "\n",
    "input = 'GOOGLE'\n",
    "\n",
    "Here, the most repeated characters are G:2, O:2. But, L,E are occurring only a single time which is tied for the third position here, so here we take E as it comes first in the lexicographical order."
   ]
  },
  {
   "cell_type": "code",
   "execution_count": 5,
   "id": "8aec6828",
   "metadata": {},
   "outputs": [
    {
     "name": "stdout",
     "output_type": "stream",
     "text": [
      "Please provide a string: hhhaaaa\n",
      "Dictionary created:  {'h': 3, 'a': 4}\n",
      "\n",
      "Sorted list of tuples (by freq.): [('h', 3), ('a', 4)]\n",
      "\n",
      "Sorted list of tuples (by character in lexicographical order) [('a', 4), ('h', 3)]\n",
      "\n",
      "Final list of tuples sorted in decreasing frequency , and secondary in lexicographical order: [('a', 4), ('h', 3)]\n",
      "\n",
      "The first,second and third most repeated characters: (Note the tie breaking mechanism is lexicographical order):\n",
      "1) a \n",
      "2) h \n",
      "3) None\n"
     ]
    }
   ],
   "source": [
    "#a)\n",
    "strin = input(\"Please provide a string: \")\n",
    "\n",
    "#b)\n",
    "#Create empty frequency dictionary\n",
    "freq = dict()\n",
    "\n",
    "#Loop over the characters in the string\n",
    "for char in strin:\n",
    "    #Checking if the character is an alphabet\n",
    "    if(not char.isalpha()):\n",
    "        break\n",
    "    #If the character is already in the dictionary , increment the count\n",
    "    #Else we set the count to 1 , inserts the key and sets its value to 1\n",
    "    if(char in freq.keys()):\n",
    "        freq[char] += 1\n",
    "    else:\n",
    "        freq[char] = 1\n",
    "        \n",
    "print(\"Dictionary created: \",freq,end = \"\\n\\n\")\n",
    "\n",
    "#c)\n",
    "list_of_tuple = list(freq.items())\n",
    "#Below we sort based on the second element of tuple i.e THE FREQ\n",
    "list_of_tuple.sort(key = lambda x : x[1])\n",
    "\n",
    "print(\"Sorted list of tuples (by freq.):\",list_of_tuple,end = \"\\n\\n\")\n",
    "\n",
    "#d)\n",
    "#Below we sort based on the first element of the tuple i.e the CHARACTER\n",
    "list_of_tuple.sort(key = lambda x : x[0])\n",
    "print(\"Sorted list of tuples (by character in lexicographical order)\",list_of_tuple,end = \"\\n\\n\")\n",
    "\n",
    "#e)\n",
    "\n",
    "'''It is Very Important to understand what is occuring below.\n",
    "We are sorting in ascending order based on the tuple : (-count , character)\n",
    "\n",
    "This means the primary basis of sorting is count(freq) and they are sorted in descending order\n",
    "because we provide negative of count in tuple.\n",
    "\n",
    "Secondary basis of sorting is character which are sorted according to lexicographical order.\n",
    "i.e a , b , c ... z\n",
    "\n",
    "Hence , the list of tuples will first we sorted with highest frequency first , and then any ties in frequency will be broken \\\n",
    "by higher lexicographical priority character first.\n",
    "'''\n",
    "list_of_tuple.sort(key = lambda x : (-x[1],x[0]))\n",
    "print(\"Final list of tuples sorted in decreasing frequency , and secondary in lexicographical order:\",list_of_tuple,end = \"\\n\\n\")\n",
    "\n",
    "#Now simple take the first three tuples in this list of tuples\n",
    "#The characters of these tuples are the required characters \n",
    "#Note we setting corresponding position to None when there are not even that many elements in the list\n",
    "\n",
    "first = None\n",
    "second = None\n",
    "third = None\n",
    "if(len(list_of_tuple) > 0):\n",
    "    first = list_of_tuple[0][0]\n",
    "if(len(list_of_tuple) > 1):\n",
    "    second = list_of_tuple[1][0]\n",
    "if(len(list_of_tuple) > 2):\n",
    "    third = list_of_tuple[2][0]\n",
    "    \n",
    "print(\"The first,second and third most repeated characters: (Note the tie breaking mechanism is lexicographical order):\\n1)\",first,\"\\n2)\",second,\"\\n3)\",third)"
   ]
  },
  {
   "cell_type": "markdown",
   "id": "a349b707",
   "metadata": {},
   "source": [
    "<font size = 4>**Question 4**</font>\n",
    "\n",
    "4. Write a function called lookup_student that takes a dictionary representing student records, where names are keys and roll numbers are values. The function should search for a specified student name and return the corresponding roll number if found; otherwise, it should return \"Not Found\" \n",
    "\n",
    "Example:\n",
    "\n",
    "records = { \"Alice\" : \"AB111\", \"Bob\" : \"EE200\", \"David\" : \"XY333\"}\n",
    "\n",
    "print(lookup_student(records, \"Bob\")) : Should print \"EE200\"\n",
    "\n",
    "print(lookup_student(records, \"John\")) : Should print \"Not Found\"\n"
   ]
  },
  {
   "cell_type": "code",
   "execution_count": 18,
   "id": "d19a8c54",
   "metadata": {},
   "outputs": [
    {
     "name": "stdout",
     "output_type": "stream",
     "text": [
      "EE200\n",
      "Not Found\n"
     ]
    }
   ],
   "source": [
    "records = { \"Alice\" : \"AB111\", \"Bob\" : \"EE200\", \"David\" : \"XY333\"}\n",
    "\n",
    "def lookup_student(records,name_key):\n",
    "    #If such name is found in dictionary , then return the corresponding roll number \n",
    "    if(name_key in records):\n",
    "        return records[name_key]\n",
    "    \n",
    "    #If such name was not found we can return \"Not Found\" as instructed\n",
    "    return \"Not Found\"\n",
    "\n",
    "print(lookup_student(records,\"Bob\"))\n",
    "print(lookup_student(records,\"John\"))"
   ]
  },
  {
   "cell_type": "markdown",
   "id": "c3eccd24",
   "metadata": {},
   "source": [
    "<font size = 4>**Question 5**</font>\n",
    "\n",
    "5. Given a list of integers, write a Python program to:\n",
    "\n",
    "a) Find the frequency of each integer in the list and store the result in a dictionary.\n",
    "\n",
    "b) Print the maximum integer and its frequency.\n",
    "\n",
    "c) Remove duplicates from the list and print the new list without changing the order of elements. Do this operation without using the set data type.\n",
    "\n",
    "d) Remove duplicates from the list and print the new list. Do this operation using the set data type."
   ]
  },
  {
   "cell_type": "code",
   "execution_count": 20,
   "id": "fb0e6a70",
   "metadata": {},
   "outputs": [
    {
     "name": "stdout",
     "output_type": "stream",
     "text": [
      "Created frequency dictionary:  {2: 3, 3: 3, 4: 3, 5: 1, 6: 1, 7: 1}\n",
      "Max integer is:  7  and its count is  1\n",
      "Removed the duplicates:  [5, 4, 3, 6, 7, 2]\n",
      "Removed the duplicates:  [2, 3, 4, 5, 6, 7]\n"
     ]
    }
   ],
   "source": [
    "list_nums = [2,3,2,3,4,4,5,4,3,6,7,2]\n",
    "\n",
    "#a)\n",
    "freq = dict()\n",
    "\n",
    "for num in list_nums:\n",
    "    if(num in freq):\n",
    "        freq[num] += 1\n",
    "    else:\n",
    "        freq[num] = 1\n",
    "\n",
    "print(\"Created frequency dictionary: \",freq)\n",
    "\n",
    "#b)\n",
    "max_num = max(freq.keys())\n",
    "max_num_freq = freq[max_num]\n",
    "\n",
    "print(\"Max integer is: \",max_num,\" and its count is \",max_num_freq)\n",
    "\n",
    "#c)\n",
    "\n",
    "#Observe that we have the counts of each integer in the dictionary\n",
    "#If we remove count-1 of each integer from the list we will have only one occurence of each element\n",
    "\n",
    "for num,count in freq.items():\n",
    "    for i in range(count-1):\n",
    "        list_nums.remove(num)\n",
    "\n",
    "print(\"Removed the duplicates: \",list_nums)\n",
    "\n",
    "\n",
    "#NOTE : Another method would be to keep a no_dup_list, Below in the comments.\n",
    "'''\n",
    "#Only add element to no_dup_list if it is already not there\n",
    "\n",
    "no_dup_list = []\n",
    "for num in list_nums:\n",
    "    if(num not in no_dup_list):\n",
    "        no_dup_list.append(num)\n",
    "        \n",
    "#Finally set original list equal to no_dup_list\n",
    "\n",
    "list_nums = no_dup_list\n",
    "\n",
    "'''\n",
    "\n",
    "\n",
    "#d)\n",
    "#Use set to remove the duplicates. Easier method\n",
    "list_nums = [2,3,2,3,4,4,5,4,3,6,7,2]\n",
    "list_nums = list(set(list_nums))\n",
    "\n",
    "print(\"Removed the duplicates: \",list_nums)"
   ]
  },
  {
   "cell_type": "code",
   "execution_count": null,
   "id": "ba562b90",
   "metadata": {},
   "outputs": [],
   "source": []
  }
 ],
 "metadata": {
  "kernelspec": {
   "display_name": "Python 3 (ipykernel)",
   "language": "python",
   "name": "python3"
  },
  "language_info": {
   "codemirror_mode": {
    "name": "ipython",
    "version": 3
   },
   "file_extension": ".py",
   "mimetype": "text/x-python",
   "name": "python",
   "nbconvert_exporter": "python",
   "pygments_lexer": "ipython3",
   "version": "3.11.3"
  }
 },
 "nbformat": 4,
 "nbformat_minor": 5
}
