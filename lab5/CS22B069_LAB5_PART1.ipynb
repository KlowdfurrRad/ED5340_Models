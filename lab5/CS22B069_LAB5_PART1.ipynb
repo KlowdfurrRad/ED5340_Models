{
 "cells": [
  {
   "cell_type": "markdown",
   "id": "f7fa9b5d",
   "metadata": {},
   "source": [
    "<font size = 5>**LAB 5 PART 1**</font>"
   ]
  },
  {
   "cell_type": "markdown",
   "id": "aea1f3e4",
   "metadata": {},
   "source": [
    "<font size = 4>**QUESTION 1**</font>\n",
    "\n",
    "1. Write a program(WAP) using loops and recursion: \n",
    "\n",
    "a) Factorial of n where n is a non negative integer. \n",
    "\n",
    "b) For calculating the Nth Fibonacci number.\n",
    "\n",
    "c) To calculate a^b where a>0, b>=0."
   ]
  },
  {
   "cell_type": "code",
   "execution_count": 1,
   "id": "336e277e",
   "metadata": {},
   "outputs": [
    {
     "name": "stdout",
     "output_type": "stream",
     "text": [
      "Factorial by loops and recursive function(fact of 5): 120 120\n"
     ]
    }
   ],
   "source": [
    "#a)\n",
    "\n",
    "#by loops\n",
    "#Simply just loops from 1 to n and multiplies all into an accumulator\n",
    "def fact_loop(n):\n",
    "    if(n == 0):\n",
    "        return 1\n",
    "    \n",
    "    acc = 1\n",
    "    for i in range(1,n+1,1):\n",
    "        acc = acc*i\n",
    "    return acc\n",
    "\n",
    "#by recursion\n",
    "#Calls fact(n-1) and multiplies n with it\n",
    "#Base case is n = 0 \n",
    "def fact_rec(n):\n",
    "    if(n == 0):\n",
    "        return 1\n",
    "    else:\n",
    "        return fact_rec(n-1)*n\n",
    "\n",
    "print(\"Factorial by loops and recursive function(fact of 5):\",fact_loop(5),fact_rec(5))"
   ]
  },
  {
   "cell_type": "code",
   "execution_count": 1,
   "id": "144bbc36",
   "metadata": {},
   "outputs": [
    {
     "name": "stdout",
     "output_type": "stream",
     "text": [
      "Fibonacci by loops and recursive function(10th fibonacci number): 55 55\n"
     ]
    }
   ],
   "source": [
    "#b)\n",
    "\n",
    "'''\n",
    "Note : \n",
    "I am considering the 0th fibonacci number to be 0 and 1st fibonacci number to be 1\n",
    "\n",
    "0,1,1,2,3,5,8,13\n",
    "a0 = 0\n",
    "a1 = 1\n",
    "a2 = 1\n",
    "a3 = 2\n",
    "a4 = 3\n",
    "a5 = 5\n",
    "\n",
    "'''\n",
    "\n",
    "#by loops\n",
    "#Initially a0 = 0 , a1 = 1\n",
    "#Loops n times\n",
    "#Then the an = Fn , an1 = Fn+1 , Note only first required\n",
    "def fibo_loop(n):\n",
    "    an = 0\n",
    "    an1 = 1\n",
    "    \n",
    "    for i in range(n):\n",
    "        temp = an1\n",
    "        an1 = an1 + an\n",
    "        an = temp\n",
    "    \n",
    "    return an\n",
    "\n",
    "#The below recursive function calculates fibonacci number by adding n-1 and n-2 fibo\n",
    "#Note that this is sub optimal as the number of recursive calls will be exponential\n",
    "def fibo_rec(n):\n",
    "    if(n == 0):\n",
    "        return 0\n",
    "    elif(n == 1):\n",
    "        return 1\n",
    "    return fibo_rec(n-1)+fibo_rec(n-2)\n",
    "    \n",
    "    \n",
    "#Below is optimised fibonacci recursion using helper function\n",
    "def fibo_rec_optimise(n):\n",
    "    if(n == 0):\n",
    "        return 0\n",
    "    else:\n",
    "        return fibo_rec_help(n)[0]\n",
    "    \n",
    "#This is recursive helper function\n",
    "#It returns tuple of (Fn , Fn+1)\n",
    "def fibo_rec_help(n):\n",
    "    if(n == 0):\n",
    "        return (0,1)\n",
    "    else:\n",
    "        an,an1 = fibo_rec_help(n-1)\n",
    "        return (an1,an+an1)\n",
    "    \n",
    "\n",
    "print(\"Fibonacci by loops and recursive function(10th fibonacci number):\",fibo_loop(10),fibo_rec(10))\n",
    "\n"
   ]
  },
  {
   "cell_type": "code",
   "execution_count": 50,
   "id": "cbcea44b",
   "metadata": {},
   "outputs": [
    {
     "name": "stdout",
     "output_type": "stream",
     "text": [
      "Exponent by loops and recursive function (3^7) : 2187 2187\n",
      "Exponent by binary exponentiation recursive function (3^7) : 2187\n"
     ]
    }
   ],
   "source": [
    "#c)\n",
    "\n",
    "#by loops\n",
    "#Just loops through b times and multiplies a each time to an accumulator\n",
    "def power_loop(a,b):\n",
    "    acc = 1\n",
    "    for i in range(b):\n",
    "        acc *= a\n",
    "    return acc\n",
    "\n",
    "#by recursion\n",
    "#returns a^b-1 into a , with base case of a^0 = 1\n",
    "def power_rec(a,b):\n",
    "    if(b == 0):\n",
    "        return 1\n",
    "    return power_rec(a,b-1)*a\n",
    "\n",
    "#Optimised recursive Code below\n",
    "#Above code will take linear time wrt b\n",
    "#We can optimise power function to take log(b) time \n",
    "def bin_exp(a,b):\n",
    "    if(b == 0):\n",
    "        return 1\n",
    "    if(b%2 == 0):\n",
    "        return bin_exp(a*a,b//2)\n",
    "    else:\n",
    "        return bin_exp(a*a,b//2)*a\n",
    "\n",
    "\n",
    "print(\"Exponent by loops and recursive function (3^7) :\",power_loop(3,7),power_rec(3,7))\n",
    "\n",
    "print(\"Exponent by binary exponentiation recursive function (3^7) :\",bin_exp(3,7))\n"
   ]
  },
  {
   "cell_type": "markdown",
   "id": "75c800ee",
   "metadata": {},
   "source": [
    "<font size  = 4>**QUESTION 2**</font>\n",
    "\n",
    "2. Query for 2 integers N and M from the user where 0<=N<=100 and 0<=M<=9. These will be the inputs to your function. Using recursion, compute the number of times the integer M occurs in all non-negative integers less than or equal to N.\n",
    "example: For N=13 and M=1, count=6 (numbers 1,10,11,12,13)."
   ]
  },
  {
   "cell_type": "code",
   "execution_count": 4,
   "id": "107743ef",
   "metadata": {},
   "outputs": [
    {
     "name": "stdout",
     "output_type": "stream",
     "text": [
      "Give two numbers 0<=N<=100 and 0<=M<=9 separated by a space: 50 5\n",
      "Number of times 5 appears in numbers less than or equal to 50 is 6\n"
     ]
    }
   ],
   "source": [
    "n,m = input(\"Give two numbers 0<=N<=100 and 0<=M<=9 separated by a space: \").split()\n",
    "n = int(n)\n",
    "m = int(m)\n",
    "\n",
    "def count(n,m):\n",
    "    if(n == -1):\n",
    "        return 0\n",
    "    strin_m = str(m)\n",
    "    strin_n = str(n)\n",
    "    \n",
    "    return count(n-1,m) + strin_n.count(strin_m)\n",
    "\n",
    "print(\"Number of times\",m,\"appears in numbers less than or equal to\",n,\"is\",count(n,m))"
   ]
  },
  {
   "cell_type": "markdown",
   "id": "78012a5f",
   "metadata": {},
   "source": [
    "<font size  = 4>**QUESTION 3**</font>\n",
    "\n",
    "3. Programs using lambda function.\n",
    "\n",
    "a) Given a list of names, use map to create a list where each name is prefixed with \"Hello, \".\n",
    "\n",
    "Example Input: ['Alice', 'Bob', 'Charlie']\n",
    "Example Output: ['Hello, Alice', 'Hello, Bob', 'Hello, Charlie']"
   ]
  },
  {
   "cell_type": "code",
   "execution_count": 5,
   "id": "59f54fa1",
   "metadata": {},
   "outputs": [
    {
     "name": "stdout",
     "output_type": "stream",
     "text": [
      "The list of names prefixed with Hello,\n",
      " ['Hello, Alice', 'Hello, Bob', 'Hello, Charlie']\n"
     ]
    }
   ],
   "source": [
    "list1 = ['Alice', 'Bob', 'Charlie']\n",
    "\n",
    "list2 = list(map(lambda name : \"Hello, \" + name,list1))\n",
    "print(\"The list of names prefixed with Hello,\\n\",list2)"
   ]
  },
  {
   "cell_type": "markdown",
   "id": "b8d5c358",
   "metadata": {},
   "source": [
    "b) Use filter and a lambda function to extract all even numbers from a given list.\n",
    "\n",
    "Example Input: [1, 2, 3, 4, 5, 6]\n",
    "Example Output: [2, 4, 6]"
   ]
  },
  {
   "cell_type": "code",
   "execution_count": 6,
   "id": "f2c057cd",
   "metadata": {},
   "outputs": [
    {
     "name": "stdout",
     "output_type": "stream",
     "text": [
      "The list only even numbers from list1\n",
      " [2, 4, 6]\n"
     ]
    }
   ],
   "source": [
    "list1 = [1,2,3,4,5,6]\n",
    "\n",
    "list2 = list(filter(lambda num : num%2 == 0,list1))\n",
    "print(\"The list only even numbers from list1\\n\",list2)"
   ]
  },
  {
   "cell_type": "markdown",
   "id": "6f41513e",
   "metadata": {},
   "source": [
    "c) Use reduce and lambda to concatenate all strings in a given list.\n",
    "\n",
    "Example Input: ['Python', 'is', 'awesome']\n",
    "Example Output: 'Pythonisawesome'"
   ]
  },
  {
   "cell_type": "code",
   "execution_count": 7,
   "id": "bedb3ab8",
   "metadata": {},
   "outputs": [
    {
     "name": "stdout",
     "output_type": "stream",
     "text": [
      "The concatenated string of the strings in list1:\n",
      " Pythonisawesome\n"
     ]
    }
   ],
   "source": [
    "import functools\n",
    "\n",
    "list1 = [\"Python\",\"is\",\"awesome\"]\n",
    "\n",
    "res_string = functools.reduce(lambda x,y : x + y,list1)\n",
    "print(\"The concatenated string of the strings in list1:\\n\",res_string)"
   ]
  },
  {
   "cell_type": "markdown",
   "id": "a7b51f86",
   "metadata": {},
   "source": [
    "<font size = 4>**QUESTION 4**</font>\n",
    "\n",
    "4.  Define a class Complex that defines a complex number with attributes real and imaginary (as we did in the class). Define operators for addition, subtraction, multiplication and division (Do with both operator overloading as well as without overloading). While printing the output, print in the form of complex number form like ( a + ib)  - 10 marks ( 1 mark each for each of the operations with and without operator overloading)"
   ]
  },
  {
   "cell_type": "code",
   "execution_count": 8,
   "id": "4ffdfb4d",
   "metadata": {},
   "outputs": [],
   "source": [
    "class Complex:\n",
    "    \n",
    "    def __init__(self,a=0,b=0):\n",
    "        self.real = a\n",
    "        self.imag = b\n",
    "        \n",
    "    def add(self,other):\n",
    "        c = Complex()\n",
    "        c.real = self.real + other.real\n",
    "        c.imag = self.imag + other.imag\n",
    "        return c\n",
    "        \n",
    "    def sub(self,other):\n",
    "        c = Complex()\n",
    "        c.real = self.real - other.real\n",
    "        c.imag = self.imag - other.imag\n",
    "        return c\n",
    "        \n",
    "    def mul(self,other):\n",
    "        '''\n",
    "        a+ib * c+id = (a*c - b*d + (a*d + b*c)i)\n",
    "        \n",
    "        The above is the formula used to calculate the multiplication of two complex numbers\n",
    "        \n",
    "        '''\n",
    "        c = Complex()\n",
    "        c.real = self.real*other.real - self.imag*other.imag\n",
    "        c.imag = self.real*other.imag + self.imag*other.real\n",
    "        return c\n",
    "    \n",
    "    def div(self,other):\n",
    "        '''\n",
    "        a+ib / c+id = (a+ib)*(c-id)/(c^2+d^2)\n",
    "        \n",
    "        The above is the formula used to calculate the division of two complex numbers\n",
    "        Multiplication of two complex numbers in numerator can be done easily.\n",
    "        \n",
    "        '''\n",
    "        if(other.real == 0 and other.imag == 0):\n",
    "            print(\"The second complex number is 0 , hence we cannot divide by it.\")\n",
    "        \n",
    "        c = Complex()\n",
    "        denom = other.real*other.real + other.imag*other.imag\n",
    "        \n",
    "        c.real = self.real*other.real + self.imag*other.imag\n",
    "        c.imag = -self.real*other.imag + self.imag*other.real\n",
    "        \n",
    "        c.real /= denom\n",
    "        c.imag /= denom\n",
    "        \n",
    "        return c\n",
    "    \n",
    "    def __add__(self,other):\n",
    "        c = Complex()\n",
    "        c.real = self.real + other.real\n",
    "        c.imag = self.imag + other.imag\n",
    "        return c\n",
    "    \n",
    "    def __sub__(self,other):\n",
    "        c = Complex()\n",
    "        c.real = self.real - other.real\n",
    "        c.imag = self.imag - other.imag\n",
    "        return c\n",
    "    \n",
    "    def __mul__(self,other):\n",
    "        c = Complex()\n",
    "        c.real = self.real*other.real - self.imag*other.imag\n",
    "        c.imag = self.real*other.imag + self.imag*other.real\n",
    "        return c\n",
    "    \n",
    "    def __truediv__(self,other):\n",
    "        if(other.real == 0 and other.imag == 0):\n",
    "            print(\"The second complex number is 0 , hence we cannot divide by it.\")\n",
    "        \n",
    "        c = Complex()\n",
    "        denom = other.real*other.real + other.imag*other.imag\n",
    "        \n",
    "        c.real = self.real*other.real + self.imag*other.imag\n",
    "        c.imag = -self.real*other.imag + self.imag*other.real\n",
    "        \n",
    "        c.real /= denom\n",
    "        c.imag /= denom\n",
    "        \n",
    "        return c\n",
    "    \n",
    "    def __str__(self):\n",
    "        if(self.imag < 0):\n",
    "            #When the imaginary part is negative\n",
    "            return str(self.real) + str(self.imag) + \"i\"\n",
    "        elif(self.imag == 0):\n",
    "            #When the imaginary part is zero , no need to print it\n",
    "            return str(self.real)\n",
    "        else:\n",
    "            #When the imaginary part is positive\n",
    "            return str(self.real) + \" + \" + str(self.imag) + \"i\"\n",
    "        \n",
    "        #Note that I am making the decision to let print the real part when its 0 as well\n",
    "    "
   ]
  },
  {
   "cell_type": "code",
   "execution_count": 9,
   "id": "3f9f0aaa",
   "metadata": {},
   "outputs": [
    {
     "name": "stdout",
     "output_type": "stream",
     "text": [
      "Adding 1 + 2i and 1 + 1i we get 2 + 3i\n",
      "Subtract 1 + 1i From 1 + 2i we get 0 + 1i\n"
     ]
    }
   ],
   "source": [
    "a = Complex(1,2)\n",
    "b = Complex(1,1)\n",
    "\n",
    "print(\"Adding\",a,\"and\",b,\"we get\",a+b)\n",
    "print(\"Subtract\",b,\"From\",a,\"we get\",a-b)"
   ]
  },
  {
   "cell_type": "code",
   "execution_count": 10,
   "id": "0ca01257",
   "metadata": {},
   "outputs": [
    {
     "name": "stdout",
     "output_type": "stream",
     "text": [
      "Multiplying 1 + 3i and 1 + 4i we get -11 + 7i\n"
     ]
    }
   ],
   "source": [
    "a = Complex(1,3)\n",
    "b = Complex(1,4)\n",
    "\n",
    "print(\"Multiplying\",a,\"and\",b,\"we get\",a*b)"
   ]
  },
  {
   "cell_type": "code",
   "execution_count": 11,
   "id": "7c0f116e",
   "metadata": {},
   "outputs": [
    {
     "name": "stdout",
     "output_type": "stream",
     "text": [
      "Dividing 0 + 4i By 2 + 2i we get 1.0 + 1.0i\n"
     ]
    }
   ],
   "source": [
    "a = Complex(0,4)\n",
    "b = Complex(2,2)\n",
    "\n",
    "print(\"Dividing\",a,\"By\",b,\"we get\",a/b)"
   ]
  },
  {
   "cell_type": "code",
   "execution_count": null,
   "id": "032d746d",
   "metadata": {},
   "outputs": [],
   "source": []
  }
 ],
 "metadata": {
  "kernelspec": {
   "display_name": "Python 3 (ipykernel)",
   "language": "python",
   "name": "python3"
  },
  "language_info": {
   "codemirror_mode": {
    "name": "ipython",
    "version": 3
   },
   "file_extension": ".py",
   "mimetype": "text/x-python",
   "name": "python",
   "nbconvert_exporter": "python",
   "pygments_lexer": "ipython3",
   "version": "3.11.3"
  }
 },
 "nbformat": 4,
 "nbformat_minor": 5
}
