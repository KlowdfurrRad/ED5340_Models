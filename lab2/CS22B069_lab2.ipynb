{
 "cells": [
  {
   "cell_type": "markdown",
   "id": "612c5dc9",
   "metadata": {},
   "source": [
    "<font size = \"5\">**LAB2**</font>"
   ]
  },
  {
   "cell_type": "markdown",
   "id": "8bc6da48",
   "metadata": {},
   "source": [
    "<font size = \"4\">**Question 1**</font>"
   ]
  },
  {
   "cell_type": "code",
   "execution_count": 14,
   "id": "d64728db",
   "metadata": {},
   "outputs": [
    {
     "name": "stdout",
     "output_type": "stream",
     "text": [
      "0\n",
      "56\n",
      "112\n",
      "168\n",
      "224\n",
      "280\n",
      "336\n",
      "392\n",
      "448\n",
      "504\n",
      "560\n",
      "616\n",
      "672\n",
      "728\n",
      "784\n",
      "840\n",
      "896\n",
      "952\n"
     ]
    }
   ],
   "source": [
    "for num in range(1000):\n",
    "    if(num%7 != 0 or num%8 != 0):\n",
    "        continue\n",
    "    print(num)"
   ]
  },
  {
   "cell_type": "code",
   "execution_count": 15,
   "id": "050923e9",
   "metadata": {},
   "outputs": [
    {
     "name": "stdout",
     "output_type": "stream",
     "text": [
      "0\n",
      "56\n",
      "112\n",
      "168\n",
      "224\n",
      "280\n",
      "336\n",
      "392\n",
      "448\n",
      "504\n",
      "560\n",
      "616\n",
      "672\n",
      "728\n",
      "784\n",
      "840\n",
      "896\n",
      "952\n"
     ]
    }
   ],
   "source": [
    "for num in range(1000):\n",
    "    if(num%7 == 0 and num%8 == 0):\n",
    "        print(num)\n",
    "    else:\n",
    "        pass"
   ]
  },
  {
   "cell_type": "markdown",
   "id": "d66cd889",
   "metadata": {},
   "source": [
    "<font size = \"4\">**Question 2**</font>"
   ]
  },
  {
   "cell_type": "code",
   "execution_count": 16,
   "id": "16354da3",
   "metadata": {},
   "outputs": [
    {
     "name": "stdout",
     "output_type": "stream",
     "text": [
      "Sample Input of an integer= 7676\n",
      "sum_even = 12 sum_odd = 14\n"
     ]
    }
   ],
   "source": [
    "num = int(input(\"Sample Input of an integer= \"))\n",
    "sum_even = int(0)\n",
    "sum_odd = int(0)\n",
    "while(num > 0):\n",
    "    if(num%2 == 0):\n",
    "        sum_even += int(num%10)\n",
    "    else:\n",
    "        sum_odd += int(num%10)\n",
    "    num = int(num/10)\n",
    "\n",
    "print(\"sum_even =\",sum_even,\"sum_odd =\",sum_odd)"
   ]
  },
  {
   "cell_type": "markdown",
   "id": "5cabc96f",
   "metadata": {},
   "source": [
    "<font size = \"4\">**Question 3**</font>\n",
    "\n",
    "Conditional expressions are the form: <br>\n",
    "_code1 if _condition else _code2 \n",
    "\n",
    "_code1 is evaluated if the _condition is true , otherwise _code2 is evaluated."
   ]
  },
  {
   "cell_type": "code",
   "execution_count": 17,
   "id": "7f104ca0",
   "metadata": {},
   "outputs": [
    {
     "name": "stdout",
     "output_type": "stream",
     "text": [
      "Maximum of list is  60\n",
      "Minimum of list is  10\n",
      "Maximum of list by max() function is  60\n",
      "Minimum of list by min() function is  10\n"
     ]
    }
   ],
   "source": [
    "list1 = [10,20,30,40,50,60]\n",
    "\n",
    "if(len(list1) == 0):\n",
    "    print(\"Invalid list : List is empty\")\n",
    "    \n",
    "maxnum = list1[0]\n",
    "for num in list1:\n",
    "    maxnum = num if num > maxnum else maxnum\n",
    "    \n",
    "minnum = list1[0]\n",
    "for num in list1:\n",
    "    minnum = num if num < minnum else minnum\n",
    "    \n",
    "print(\"Maximum of list is \",maxnum)\n",
    "print(\"Minimum of list is \",minnum)\n",
    "\n",
    "#verification below\n",
    "print(\"Maximum of list by max() function is \",max(list1))\n",
    "print(\"Minimum of list by min() function is \",min(list1))"
   ]
  },
  {
   "cell_type": "markdown",
   "id": "defd1ab4",
   "metadata": {},
   "source": [
    "<font size = \"4\">**Question 4**</font>"
   ]
  },
  {
   "cell_type": "code",
   "execution_count": 18,
   "id": "5fb26f52",
   "metadata": {},
   "outputs": [
    {
     "name": "stdout",
     "output_type": "stream",
     "text": [
      "Pascal triangle size: 7\n",
      "      1 \n",
      "\n",
      "     1 1 \n",
      "\n",
      "    1 2 1 \n",
      "\n",
      "   1 3 3 1 \n",
      "\n",
      "  1 4 6 4 1 \n",
      "\n",
      " 1 5 10 10 5 1 \n",
      "\n",
      "1 6 15 20 15 6 1 \n",
      "\n"
     ]
    }
   ],
   "source": [
    "N = int(input(\"Pascal triangle size: \"))\n",
    "list1 = [1]\n",
    "while N > 0:\n",
    "    N -= 1\n",
    "    \n",
    "    print(\" \"*N,end = \"\")\n",
    "    for x in list1:\n",
    "        print(x,end = \" \")\n",
    "    print(\"\\n\")\n",
    "    \n",
    "    for i in range(len(list1)-1):\n",
    "        list1[i] += list1[i+1]\n",
    "    list1.insert(0,1)"
   ]
  },
  {
   "cell_type": "markdown",
   "id": "e07de346",
   "metadata": {},
   "source": [
    "<font size = \"4\">**Question 5**</font>"
   ]
  },
  {
   "cell_type": "code",
   "execution_count": 19,
   "id": "f4f7d15d",
   "metadata": {},
   "outputs": [
    {
     "name": "stdout",
     "output_type": "stream",
     "text": [
      "Give an integer: 6565\n",
      "False\n",
      "Give a string: Abb..?? Ba\n",
      "True\n"
     ]
    }
   ],
   "source": [
    "def isnumpalindrome(num):\n",
    "    num_as_string = str(num)\n",
    "    num_as_string.replace(\".\",\"\")\n",
    "    return num_as_string == num_as_string[::-1]\n",
    "\n",
    "def isstrpalindrome(strin):\n",
    "    strin = strin.lower()\n",
    "    list1 = []\n",
    "    for x in strin:\n",
    "        if(ord(x) >= 97 and ord(x) <= 122):\n",
    "            list1.append(x)\n",
    "    return list1 == list1[::-1]\n",
    "\n",
    "# A)\n",
    "\n",
    "num = int(input(\"Give an integer: \"))\n",
    "print(isnumpalindrome(num))\n",
    "strin = input(\"Give a string: \")\n",
    "print(isstrpalindrome(strin))\n"
   ]
  },
  {
   "cell_type": "markdown",
   "id": "b3cdce65",
   "metadata": {},
   "source": [
    "<font size = \"4\">**Question 6**</font>\n",
    "\n",
    "The chr() function returns a string of one character whose unicode integer was passed as an argument into the function.\n",
    "\n",
    "The ord() function returns the integer representation(unicode) of a character passed to it as an argument.\n",
    "The <font>**above**</font> theory has also been written on paper and uploaded."
   ]
  },
  {
   "cell_type": "code",
   "execution_count": 20,
   "id": "47941296",
   "metadata": {},
   "outputs": [
    {
     "name": "stdout",
     "output_type": "stream",
     "text": [
      "ABCDEFGHIJKLMNOPQRSTUVWXYZ"
     ]
    }
   ],
   "source": [
    "#Using chr() to print uppercase letters from A to Z\n",
    "for i in range(26):\n",
    "    print(chr(65+i),end=\"\")"
   ]
  },
  {
   "cell_type": "code",
   "execution_count": 22,
   "id": "62328669",
   "metadata": {},
   "outputs": [
    {
     "name": "stdout",
     "output_type": "stream",
     "text": [
      "Please enter a lowercase letter: u\n",
      "Your letter was not between a and e\n"
     ]
    }
   ],
   "source": [
    "#Using ord() to decide if a letter was one of a,b,c,d,e\n",
    "x = input(\"Please enter a lowercase letter: \")\n",
    "if(ord(x) <= 101 and ord(x) >= 97):\n",
    "    print(\"Your letter is between a and e\")\n",
    "else:\n",
    "    print(\"Your letter was not between a and e\")"
   ]
  },
  {
   "cell_type": "code",
   "execution_count": 23,
   "id": "08a12364",
   "metadata": {},
   "outputs": [
    {
     "name": "stdout",
     "output_type": "stream",
     "text": [
      "Give a number less than or equal to 26: 6\n",
      "A \n",
      "B B \n",
      "C C C \n",
      "D D D D \n",
      "E E E E E \n",
      "F F F F F F \n"
     ]
    }
   ],
   "source": [
    "N = int(input(\"Give a number less than or equal to 26: \"))\n",
    "for i in range(N):\n",
    "    for x in range(i+1):\n",
    "        print(chr(65+i),end = \" \")\n",
    "    print()"
   ]
  },
  {
   "cell_type": "markdown",
   "id": "4d976511",
   "metadata": {},
   "source": [
    "<font size = \"4\">**Question 7**</font>"
   ]
  },
  {
   "cell_type": "code",
   "execution_count": 24,
   "id": "44441184",
   "metadata": {},
   "outputs": [
    {
     "name": "stdout",
     "output_type": "stream",
     "text": [
      "First names:\n",
      " ['Mark', 'Mohan', 'Ramanathan', 'Raadhes'] \n",
      "\n",
      "Last names:\n",
      " ['Anthony', 'Raj', 'Muthuganapathy', 'Chandaluru'] \n",
      "\n",
      "First and last names swapped:\n",
      " ['Anthony Mark', 'Raj Mohan', 'Muthuganapathy Ramanathan', 'Chandaluru Raadhes'] \n",
      "\n",
      "Sorted according to last name:\n",
      " ['Mark Anthony', 'Raadhes Chandaluru', 'Ramanathan Muthuganapathy', 'Mohan Raj'] \n",
      "\n"
     ]
    }
   ],
   "source": [
    "names = [\"Mark Anthony\",\"Mohan Raj\",\"Ramanathan Muthuganapathy\",\"Raadhes Chandaluru\"]\n",
    "#a)\n",
    "list1 = names[:]\n",
    "for i in range(len(list1)):\n",
    "    list1[i] = list1[i].split()[0]\n",
    "print(\"First names:\\n\",list1,\"\\n\")\n",
    "\n",
    "#b)\n",
    "list1 = names[:]\n",
    "for i in range(len(list1)):\n",
    "    list1[i] = list1[i].split()[1]\n",
    "print(\"Last names:\\n\",list1,\"\\n\")\n",
    "\n",
    "#c)\n",
    "list1 = names[:]\n",
    "for i in range(len(list1)):\n",
    "    list1[i] = list1[i].split()[1] + \" \" + list1[i].split()[0]\n",
    "print(\"First and last names swapped:\\n\",list1,\"\\n\")\n",
    "\n",
    "#d)\n",
    "def lastname(x):\n",
    "    return x.split()[1]\n",
    "\n",
    "list1 = names[:]\n",
    "list1.sort(reverse = False, key = lastname)\n",
    "print(\"Sorted according to last name:\\n\",list1,\"\\n\")"
   ]
  },
  {
   "cell_type": "markdown",
   "id": "30b25c34",
   "metadata": {},
   "source": [
    "<font size = \"4\">**Question 8**</font>"
   ]
  },
  {
   "cell_type": "code",
   "execution_count": 25,
   "id": "6de9c13c",
   "metadata": {
    "scrolled": false
   },
   "outputs": [
    {
     "name": "stdout",
     "output_type": "stream",
     "text": [
      "Give three Numbers 2 3 4 1\n",
      "a) part: 2\n",
      "b) part: 2\n",
      "c) part: 1\n"
     ]
    }
   ],
   "source": [
    "#a)\n",
    "a,b,c,d = input(\"Give three Numbers \").split()\n",
    "a = int(a)\n",
    "b = int(b)\n",
    "c = int(c)\n",
    "d = int(d)\n",
    "\n",
    "mintemp = a if a < b else b\n",
    "minnum = mintemp if mintemp < c else c\n",
    "print(\"a) part:\",minnum)\n",
    "\n",
    "#b)\n",
    "\n",
    "minnum = a if(a < b and a < c) else (b if(b < c ) else c)\n",
    "print(\"b) part:\",minnum)\n",
    "\n",
    "#c)\n",
    "minnum = a if (d > c > a < b) else (a if (c > d > a < b) else (b if(c > b < d) else (c if (c < d) else d)))\n",
    "print(\"c) part:\",minnum)\n",
    "\n"
   ]
  },
  {
   "cell_type": "markdown",
   "id": "771e714f",
   "metadata": {},
   "source": [
    "<font size = \"4\">**Question 9**</font>"
   ]
  },
  {
   "cell_type": "code",
   "execution_count": 13,
   "id": "d8e142ba",
   "metadata": {},
   "outputs": [
    {
     "name": "stdout",
     "output_type": "stream",
     "text": [
      "Branches:  ['Eng. Design', 'Comp.Sci.', 'Elec.', 'Mech.', 'Chem.']\n",
      "\n",
      "After append:  ['Eng. Design', 'Comp.Sci.', 'Elec.', 'Mech.', 'Chem.', 'Metallurgy']\n",
      "\n",
      "After removal of Mech.:  ['Eng. Design', 'Comp.Sci.', 'Elec.', 'Chem.', 'Metallurgy']\n",
      "\n",
      "After pop:  ['Eng. Design', 'Comp.Sci.', 'Elec.', 'Chem.']\n",
      "\n",
      "After insert of another Elec. at index 1:  ['Eng. Design', 'Elec.', 'Comp.Sci.', 'Elec.', 'Chem.']\n",
      "\n",
      "After reverse:  ['Chem.', 'Elec.', 'Comp.Sci.', 'Elec.', 'Eng. Design']\n",
      "\n",
      "After sort:  ['Chem.', 'Comp.Sci.', 'Elec.', 'Elec.', 'Eng. Design']\n",
      "\n",
      "Count of Elec. in list right now:(by count function) 2\n",
      "\n",
      "Index of Chem. right now:(by index function)  0\n",
      "\n",
      "list2:  ['Naval', 'Mech.']\n",
      "After extending list1 with list2 ['Chem.', 'Comp.Sci.', 'Elec.', 'Elec.', 'Eng. Design', 'Naval', 'Mech.']\n",
      "\n",
      "The branches at indices 2 to 4 are:  ['Elec.', 'Elec.', 'Eng. Design']\n",
      "\n",
      "After list is cleared:  []\n",
      "\n"
     ]
    }
   ],
   "source": [
    "branches = [\"Eng. Design\",\"Comp.Sci.\",\"Elec.\",\"Mech.\",\"Chem.\"]\n",
    "print(\"Branches: \",branches,end=\"\\n\\n\")\n",
    "branches.append(\"Metallurgy\")\n",
    "print(\"After append: \",branches,end=\"\\n\\n\")\n",
    "branches.remove(\"Mech.\")\n",
    "print(\"After removal of Mech.: \",branches,end=\"\\n\\n\")\n",
    "branches.pop()\n",
    "print(\"After pop: \",branches,end=\"\\n\\n\")\n",
    "branches.insert(1,\"Elec.\")\n",
    "print(\"After insert of another Elec. at index 1: \",branches,end=\"\\n\\n\")\n",
    "branches.reverse()\n",
    "print(\"After reverse: \",branches,end=\"\\n\\n\")\n",
    "branches.sort()\n",
    "print(\"After sort: \",branches,end=\"\\n\\n\")\n",
    "print(\"Count of Elec. in list right now:(by count function)\",branches.count(\"Elec.\"),end=\"\\n\\n\")\n",
    "print(\"Index of Chem. right now:(by index function) \",branches.index(\"Chem.\"),end=\"\\n\\n\")\n",
    "\n",
    "list2 = [\"Naval\",\"Mech.\"]\n",
    "print(\"list2: \",list2)\n",
    "branches.extend(list2)\n",
    "print(\"After extending list1 with list2\",branches,end=\"\\n\\n\")\n",
    "\n",
    "print(\"The branches at indices 2 to 4 are: \",branches[2:5],end=\"\\n\\n\")\n",
    "\n",
    "branches.clear()\n",
    "print(\"After list is cleared: \",branches,end=\"\\n\\n\")"
   ]
  },
  {
   "cell_type": "markdown",
   "id": "0ab1067f",
   "metadata": {},
   "source": [
    "<font size = \"4\">**Question 10**</font>\n",
    "\n",
    "The answer written on paper and uploaded."
   ]
  }
 ],
 "metadata": {
  "kernelspec": {
   "display_name": "Python 3 (ipykernel)",
   "language": "python",
   "name": "python3"
  },
  "language_info": {
   "codemirror_mode": {
    "name": "ipython",
    "version": 3
   },
   "file_extension": ".py",
   "mimetype": "text/x-python",
   "name": "python",
   "nbconvert_exporter": "python",
   "pygments_lexer": "ipython3",
   "version": "3.11.3"
  }
 },
 "nbformat": 4,
 "nbformat_minor": 5
}
