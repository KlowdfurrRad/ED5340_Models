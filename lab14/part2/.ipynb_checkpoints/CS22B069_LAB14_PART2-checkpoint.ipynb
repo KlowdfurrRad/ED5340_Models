{
 "cells": [
  {
   "cell_type": "markdown",
   "id": "a194ca83",
   "metadata": {},
   "source": [
    "## LAB 14 PART 2"
   ]
  },
  {
   "cell_type": "markdown",
   "id": "d810148d",
   "metadata": {},
   "source": [
    "Implement a neural network for m-samples, n-features as we discussed in class (both FP and BP) and for N layers in the hidden layer. Split the data (you can use the log. reg. data or any other one) and train your network with 70% of the data. Use 15% for validation  and test your network with the remaining 15% data. Report the evaluation metrics for varying number of layers in the network. Plot the training loss curves."
   ]
  },
  {
   "cell_type": "markdown",
   "id": "c52f1716",
   "metadata": {},
   "source": [
    "### Import"
   ]
  },
  {
   "cell_type": "code",
   "execution_count": 1,
   "id": "68042e5d",
   "metadata": {},
   "outputs": [],
   "source": [
    "import matplotlib.pyplot as plt\n",
    "import numpy as np\n",
    "import pandas as pd"
   ]
  },
  {
   "cell_type": "markdown",
   "id": "3be0b040",
   "metadata": {},
   "source": [
    "### Sigmoid function and Cross Entropy loss"
   ]
  },
  {
   "cell_type": "code",
   "execution_count": 2,
   "id": "0f21712f",
   "metadata": {},
   "outputs": [],
   "source": [
    "\n",
    "def sigmoid(x):\n",
    "    return 1/(1+np.exp(-x))\n",
    "\n",
    "def CrossEntropyLoss(target,predicted):\n",
    "    m = target.shape[1]\n",
    "    losses = -target*np.log(predicted) - (1-target)*np.log(1-predicted)\n",
    "    return np.mean(losses)\n",
    "\n",
    "#x = np.array([[[1],[1]],[[1],[1]]])\n",
    "#y = np.random.rand(2,2,3)\n",
    "#print(y)\n",
    "#print(1+x+y)"
   ]
  },
  {
   "cell_type": "markdown",
   "id": "aa7120ee",
   "metadata": {},
   "source": [
    "### Evaluation parameter printing function"
   ]
  },
  {
   "cell_type": "code",
   "execution_count": 3,
   "id": "54762014",
   "metadata": {},
   "outputs": [],
   "source": [
    "\n",
    "def PrintEval(predicted,target):\n",
    "    #predicted and target are numpy arrays of size 1 x m , m = num of samples\n",
    "    m = predicted.shape[1]\n",
    "    #Evaluation Metrics\n",
    "\n",
    "    TP = 0\n",
    "    FP = 0\n",
    "    FN = 0\n",
    "    TN = 0\n",
    "\n",
    "    for i in range(m):\n",
    "        if(target[0][i] == 1):\n",
    "            if(predicted[0][i] < 0.5):\n",
    "                FN = FN + 1\n",
    "            else:\n",
    "                TP = TP + 1\n",
    "        else:\n",
    "            if(predicted[0][i] < 0.5):\n",
    "                TN = TN + 1\n",
    "            else:\n",
    "                FP = FP + 1\n",
    "\n",
    "    print(f\"Confusion Matrix:\\n{TP},{FP}\\n{FN},{TN}\")\n",
    "\n",
    "    Precision = TP/(TP + FP)\n",
    "    Recall = TP/(TP + FN)\n",
    "    F1_score = 2*Precision*Recall/(Precision+Recall)\n",
    "    Accuracy = (TN + TP)/(TN + TP + FN + FP)\n",
    "\n",
    "    print(f'''    Precision: {Precision}\n",
    "    Recall: {Recall}\n",
    "    F1_score: {F1_score}\n",
    "    Accuracy: {Accuracy}''')"
   ]
  },
  {
   "cell_type": "markdown",
   "id": "95ed700b",
   "metadata": {},
   "source": [
    "### Neural Network Class"
   ]
  },
  {
   "cell_type": "code",
   "execution_count": 4,
   "id": "04da173c",
   "metadata": {},
   "outputs": [],
   "source": [
    "class neural_network:\n",
    "    def __init__(self,act_func,num_features,hidden_size,num_hidden):\n",
    "        self.activation_func = act_func\n",
    "        self.n1 = hidden_size  #The number of neurons in hidden layers\n",
    "        self.num_hidden = num_hidden #Number of hidden layers\n",
    "        self.num_features = num_features\n",
    "        #Below are the neural network paramters , they will be assigned after training\n",
    "        self.w1 = np.zeros((self.n1,self.num_features))\n",
    "        self.w = np.zeros((self.num_hidden+1,self.n1,self.n1))\n",
    "        self.w_last = np.zeros((1,self.n1))\n",
    "        self.b = np.zeros((self.num_hidden+1,self.n1,1))\n",
    "        self.b_last = np.zeros((1,1))\n",
    "        \n",
    "    def train(self,x,target,num_iter,alpha):\n",
    "        losses = []\n",
    "        \n",
    "        #We are given x which is nxm size . features x samples\n",
    "        #Target is of size 1 x samples\n",
    "        n = x.shape[0] #same as num_features\n",
    "        m = x.shape[1]\n",
    "        n1 = self.n1 #Number of neurons in each hidden layer\n",
    "        \n",
    "        #represents the weights from initial x to the first layer\n",
    "        w1 = np.random.rand(n1,n)*4-2\n",
    "        \n",
    "        #represent the weights for between hidden layers\n",
    "        w = np.random.rand(self.num_hidden+1,n1,n1)*4-2\n",
    "        #only w[2] to w[self.num_hidden-1] are the weights , w[0] is not \n",
    "        \n",
    "        #represents the weights from the last hidden layer to the last neuron(output layer)\n",
    "        w_last = np.random.rand(1,n1)*4-2\n",
    "        \n",
    "        #Biases for all hidden layers\n",
    "        b = np.random.rand(self.num_hidden+1,n1,1)*4-2 #Last axis have 1 shape for broadcasting \n",
    "        \n",
    "        #Bias for the final layer\n",
    "        b_last = np.random.rand(1,1)*4-2\n",
    "            \n",
    "        #Layers z,a \n",
    "        z = np.zeros((self.num_hidden+1,n1,m))\n",
    "        a = np.zeros((self.num_hidden+1,n1,m))\n",
    "        z_last = np.zeros((1,m))\n",
    "        a_last = np.zeros((1,m))\n",
    "        \n",
    "        for iteration in range(0,num_iter):\n",
    "            #Forward Propagation : \n",
    "            #1)Input layer to first hidden layer (assumption , hidden layers >= 1)\n",
    "            z[1] = w1@x + b[1]\n",
    "            a[1] = self.activation_func(z[1])\n",
    "        \n",
    "            #2)Propagation between hidden layers (loop will not run if hidden layers = 1)\n",
    "            for i in range(2,self.num_hidden+1):\n",
    "                z[i] = w[i]@a[i-1] + b[i]\n",
    "                a[i] = self.activation_func(z[i])\n",
    "            \n",
    "            #Final layer output\n",
    "            z_last = w_last@z[self.num_hidden] + b_last\n",
    "            a_last = self.activation_func(z_last)\n",
    "            \n",
    "            losses.append(CrossEntropyLoss(target,a_last))\n",
    "            \n",
    "#-----------------------------------------------------------------------\n",
    "            \n",
    "            #Create the differential arrays\n",
    "            dw1 = np.zeros((self.n1,self.num_features))\n",
    "            dw = np.zeros((self.num_hidden+1,self.n1,self.n1))\n",
    "            dw_last = np.zeros((1,self.n1))\n",
    "            db = np.zeros((self.num_hidden+1,self.n1,1))\n",
    "            db_last = np.zeros((1,1))\n",
    "            \n",
    "            dz = np.zeros((self.num_hidden+1,n1,m))\n",
    "            da = np.zeros((self.num_hidden+1,n1,m))\n",
    "            dz_last = np.zeros((1,m))\n",
    "            da_last = np.zeros((1,m))\n",
    "            \n",
    "            #Backpropagation :\n",
    "            \n",
    "            #Backprop for the output layer weights and bias\n",
    "            dz_last = a_last - target\n",
    "            dw_last = dz_last@a[self.num_hidden].T/m\n",
    "            db_last = np.sum(dz_last,axis = 1,keepdims = True)/m\n",
    "            \n",
    "            #Backprop for the hidden layers\n",
    "            for i in range(self.num_hidden,1,-1): #Calc from index : self.num_hidden to index : 2 layer\n",
    "                #first calculate the dz for the layer\n",
    "                if(i == self.num_hidden):\n",
    "                    dz[i] = (w_last.T @ dz_last)*(a[i]*(1-a[i]))\n",
    "                else:\n",
    "                    dz[i] = (w[i+1].T @ dz[i+1])*(a[i]*(1 - a[i]))\n",
    "                    \n",
    "                dw[i] = dz[i] @ a[i].T/m\n",
    "                db[i] = np.sum(dz[i],axis = 1,keepdims = True)/m\n",
    "            \n",
    "            #Backprop for the first hidden layer\n",
    "            if(self.num_hidden >= 2):\n",
    "                dz[1] = (w[2].T @ dz[2])*(a[1]*(1-a[1])) \n",
    "            else: #HERE the dz_last is the next layer \n",
    "                dz[1] = (w_last.T @ dz_last)*(a[1]*(1-a[1]))\n",
    "            dw1 = dz[1]@x.T/m\n",
    "            db[1] = np.sum(dz[1],axis = 1,keepdims = True)/m\n",
    "            \n",
    "            #Updating w1,w,w_last,b,b_last \n",
    "            w1 = w1 - alpha*dw1\n",
    "            w = w - alpha*dw\n",
    "            w_last = w_last - alpha*dw_last\n",
    "            b = b - alpha*db\n",
    "            b_last = b_last - alpha*db_last\n",
    "            \n",
    "        #Assign the model parameters\n",
    "        self.w1 = w1\n",
    "        self.w = w\n",
    "        self.w_last = w_last\n",
    "        self.b = b\n",
    "        self.b_last = b_last\n",
    "        \n",
    "        #return the final fitted final layer values after fitting for prediction data\n",
    "        #Also return the losses list in each iteration \n",
    "        return a_last,losses\n",
    "    \n",
    "    def predict(self,x):\n",
    "        n = x.shape[0] #same as num_features\n",
    "        m = x.shape[1]\n",
    "        n1 = self.n1 #Number of neurons in each hidden layer\n",
    "        \n",
    "        #Layers z,a \n",
    "        z = np.zeros((self.num_hidden+1,n1,m))\n",
    "        a = np.zeros((self.num_hidden+1,n1,m))\n",
    "        z_last = np.zeros((1,m))\n",
    "        a_last = np.zeros((1,m))\n",
    "        \n",
    "        \n",
    "        #Forward Propagation : \n",
    "        #1)Input layer to first hidden layer (assumption , hidden layers >= 1)\n",
    "        z[1] = self.w1@x + self.b[1]\n",
    "        a[1] = self.activation_func(z[1])\n",
    "        \n",
    "        #2)Propagation between hidden layers (loop will not run if hidden layers = 1)\n",
    "        for i in range(2,self.num_hidden+1):\n",
    "            z[i] = self.w[i]@a[i-1] + self.b[i]\n",
    "            a[i] = self.activation_func(z[i])\n",
    "        \n",
    "        #Final layer output\n",
    "        z_last = self.w_last@z[self.num_hidden] + self.b_last\n",
    "        a_last = self.activation_func(z_last)\n",
    "            \n",
    "        return a_last\n"
   ]
  },
  {
   "cell_type": "markdown",
   "id": "4ce453f6",
   "metadata": {},
   "source": [
    "### Read Data from file and Split into train,validation and test"
   ]
  },
  {
   "cell_type": "code",
   "execution_count": 5,
   "id": "2ef6eeef",
   "metadata": {},
   "outputs": [],
   "source": [
    "\n",
    "#Read the dataframe\n",
    "df = pd.read_csv(\"logistic_regression_ls.csv\",usecols = [\"x1\",\"x2\",\"label\"])\n",
    "\n",
    "#Shuffle the dataframe\n",
    "df = df.sample(frac = 1).reset_index(drop=True)\n",
    "\n",
    "train_index = int(0.7*len(df))\n",
    "val_index = int(0.85*len(df))\n",
    "\n",
    "#Splitting\n",
    "X_train = np.array(df[[\"x1\",\"x2\"]][:train_index]).T\n",
    "X_val = np.array(df[[\"x1\",\"x2\"]][train_index:val_index]).T\n",
    "X_test = np.array(df[[\"x1\",\"x2\"]][val_index:]).T\n",
    "\n",
    "target_train = np.array(df[\"label\"][:train_index]).reshape((1,X_train.shape[1]))\n",
    "target_val = np.array(df[\"label\"][train_index:val_index]).reshape((1,X_val.shape[1]))\n",
    "target_test = np.array(df[\"label\"][val_index:]).reshape((1,X_test.shape[1]))\n",
    "                         "
   ]
  },
  {
   "cell_type": "markdown",
   "id": "ec1d6380",
   "metadata": {},
   "source": [
    "### Plots for different number of hidden layers"
   ]
  },
  {
   "cell_type": "code",
   "execution_count": 6,
   "id": "2fe19d1a",
   "metadata": {},
   "outputs": [
    {
     "name": "stdout",
     "output_type": "stream",
     "text": [
      "Evaluation Metrics for layers = 1:\n",
      "Confusion Matrix:\n",
      "37,0\n",
      "0,38\n",
      "    Precision: 1.0\n",
      "    Recall: 1.0\n",
      "    F1_score: 1.0\n",
      "    Accuracy: 1.0\n",
      "\n",
      "Evaluation Metrics for layers = 2:\n",
      "Confusion Matrix:\n",
      "37,0\n",
      "0,38\n",
      "    Precision: 1.0\n",
      "    Recall: 1.0\n",
      "    F1_score: 1.0\n",
      "    Accuracy: 1.0\n",
      "\n",
      "Evaluation Metrics for layers = 3:\n",
      "Confusion Matrix:\n",
      "37,0\n",
      "0,38\n",
      "    Precision: 1.0\n",
      "    Recall: 1.0\n",
      "    F1_score: 1.0\n",
      "    Accuracy: 1.0\n",
      "\n",
      "Evaluation Metrics for layers = 4:\n",
      "Confusion Matrix:\n",
      "37,0\n",
      "0,38\n",
      "    Precision: 1.0\n",
      "    Recall: 1.0\n",
      "    F1_score: 1.0\n",
      "    Accuracy: 1.0\n",
      "\n"
     ]
    },
    {
     "data": {
      "image/png": "[encoded data removed]",
      "text/plain": [
       "<Figure size 800x800 with 4 Axes>"
      ]
     },
     "metadata": {},
     "output_type": "display_data"
    }
   ],
   "source": [
    "fig,ax = plt.subplots(2,2,figsize=(8,8))\n",
    "\n",
    "leastloss = 1000\n",
    "best_layers = 0\n",
    "\n",
    "models = [0]\n",
    "\n",
    "for num_hidden in range(1,5): #Do training for hidden layers 1 to 4\n",
    "    models.append(neural_network(sigmoid,2,3,num_hidden))\n",
    "    temp,losses = models[num_hidden].train(X_train,target_train,30000,0.07)\n",
    "    predicted = models[num_hidden].predict(X_val)\n",
    "    ax[(num_hidden-1)//2][(num_hidden-1)%2].plot(losses)\n",
    "    ax[(num_hidden-1)//2][(num_hidden-1)%2].set_title(f\"Loss vs train iterations (layers:{num_hidden})\")\n",
    "    ax[(num_hidden-1)//2][(num_hidden-1)%2].set_xlabel(\"Iteration\")\n",
    "    ax[(num_hidden-1)//2][(num_hidden-1)%2].set_ylabel(\"Loss\")\n",
    "    print(f\"Evaluation Metrics for layers = {num_hidden}:\")\n",
    "    PrintEval(predicted,target_val)\n",
    "    print()\n",
    "    \n",
    "    if(losses[-1] < leastloss):\n",
    "        leastloss = losses[-1]\n",
    "        bestlayers = num_hidden\n",
    "\n",
    "plt.show()"
   ]
  },
  {
   "cell_type": "markdown",
   "id": "75887856",
   "metadata": {},
   "source": [
    "### Test data predictions for best number of layers.\n",
    "#### Note that best number of layers calculated by least loss"
   ]
  },
  {
   "cell_type": "code",
   "execution_count": 7,
   "id": "f662036d",
   "metadata": {},
   "outputs": [
    {
     "name": "stdout",
     "output_type": "stream",
     "text": [
      "Printing eval parameters for hidden layers: 3\n",
      "Confusion Matrix:\n",
      "36,0\n",
      "0,39\n",
      "    Precision: 1.0\n",
      "    Recall: 1.0\n",
      "    F1_score: 1.0\n",
      "    Accuracy: 1.0\n"
     ]
    }
   ],
   "source": [
    "print(\"Printing eval parameters for hidden layers:\",bestlayers)\n",
    "predicted_test = models[bestlayers].predict(X_test)\n",
    "PrintEval(predicted_test,target_test)\n"
   ]
  },
  {
   "cell_type": "code",
   "execution_count": null,
   "id": "52d09bd7",
   "metadata": {},
   "outputs": [],
   "source": []
  },
  {
   "cell_type": "code",
   "execution_count": null,
   "id": "04c73a35",
   "metadata": {},
   "outputs": [],
   "source": []
  }
 ],
 "metadata": {
  "kernelspec": {
   "display_name": "Python 3 (ipykernel)",
   "language": "python",
   "name": "python3"
  },
  "language_info": {
   "codemirror_mode": {
    "name": "ipython",
    "version": 3
   },
   "file_extension": ".py",
   "mimetype": "text/x-python",
   "name": "python",
   "nbconvert_exporter": "python",
   "pygments_lexer": "ipython3",
   "version": "3.11.3"
  }
 },
 "nbformat": 4,
 "nbformat_minor": 5
}
