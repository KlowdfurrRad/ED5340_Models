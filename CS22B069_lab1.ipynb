{
 "cells": [
  {
   "cell_type": "code",
   "execution_count": 7,
   "id": "4b555239",
   "metadata": {},
   "outputs": [
    {
     "name": "stdout",
     "output_type": "stream",
     "text": [
      "Expression evaluated:  35.44789594116947\n",
      "Difference in area is:  12.566370614359172 metre^2\n"
     ]
    }
   ],
   "source": [
    "import math\n",
    "#Question1\n",
    "answer = 7*math.log(3)*(math.log(5)+math.log(math.e**3))\n",
    "print(\"Expression evaluated: \",answer)\n",
    "\n",
    "def area(r):\n",
    "    return math.pi*r*r\n",
    "difference_area = area(5/2) - area(3/2)\n",
    "print(\"Difference in area is: \",difference_area,\"metre^2\")"
   ]
  },
  {
   "cell_type": "code",
   "execution_count": 8,
   "id": "a83a95d5",
   "metadata": {},
   "outputs": [
    {
     "name": "stdout",
     "output_type": "stream",
     "text": [
      "Number of odd and even numbers between are 7 and 80 are 37 and 37\n"
     ]
    }
   ],
   "source": [
    "#Question2\n",
    "def even_till(n):\n",
    "    return int(n/2)\n",
    "def odd_till(n):\n",
    "    return int((n+1)/2)\n",
    "start = 7 \n",
    "end = 80\n",
    "print(\"Number of odd and even numbers between are 7 and 80 are {} and {}\".format(odd_till(end)-odd_till(start-1),even_till(end)-even_till(start-1)))"
   ]
  },
  {
   "cell_type": "markdown",
   "id": "60b1cb87",
   "metadata": {},
   "source": [
    "#Question3 \\\n",
    "Different datatypes in Python include the following\n",
    "\n",
    "Numeric DataTypes:\\\n",
    "int :- Stores integer values. Significant in integer math. \\\n",
    "float :- Stores floating point values (Numbers with decimal). Significant in math with decimals. \\\n",
    "complex :- Stores complex numbers. (Numbers of the form a+bj where a represents the real part and b represents the imaginary part). Significant in complex number math.\\\n",
    "\n",
    "String DataType:\\\n",
    "str :- Stores groups of characters.\\\n",
    "\n",
    "Boolean Type:\\\n",
    "bool :- Stores True or False value. Return type for many functions like .islower() , isupper() form string class.\n",
    "\n",
    "Other kinds of datatypes:\\\n",
    "Sequence Datatypes:\\\n",
    "list , tuples.\n",
    "\n",
    "Mapping Datatypes:\\\n",
    "dict\n",
    "\n",
    "Binary Datatypes includes bytes and others.\n"
   ]
  },
  {
   "cell_type": "code",
   "execution_count": 9,
   "id": "2e76507a",
   "metadata": {},
   "outputs": [
    {
     "name": "stdout",
     "output_type": "stream",
     "text": [
      "Sizes of the datatypes below:(in bytes)\n",
      "Floating point datatype size :  24\n",
      "Boolean datatype size:  28\n",
      "Single digit integer size:  28\n",
      "Larger integer size:  32\n",
      "Even Larger integer size:  36\n",
      "Single character string size:  50\n",
      "Larger string size:  73\n"
     ]
    }
   ],
   "source": [
    "import sys\n",
    "#Integer\n",
    "int_small = 9\n",
    "int_larger = 900000000000000000\n",
    "int_largest = 9000000000000000000000\n",
    "#Float\n",
    "float_ = 2.5\n",
    "\n",
    "#Complex\n",
    "complex_ = 1 + 1j\n",
    "\n",
    "#boolean\n",
    "boolean_ = True\n",
    "\n",
    "#String\n",
    "string1_ = \"a\"\n",
    "string2_  = \"hello , this is a string\"\n",
    "\n",
    "print(\"Sizes of the datatypes below:(in bytes)\")\n",
    "print(\"Floating point datatype size : \",sys.getsizeof(float_))\n",
    "print(\"Boolean datatype size: \",sys.getsizeof(boolean_))\n",
    "print(\"Single digit integer size: \",sys.getsizeof(int_small))\n",
    "print(\"Larger integer size: \",sys.getsizeof(int_larger))\n",
    "print(\"Even Larger integer size: \",sys.getsizeof(int_largest))\n",
    "print(\"Single character string size: \",sys.getsizeof(string1_))\n",
    "print(\"Larger string size: \",sys.getsizeof(string2_))"
   ]
  },
  {
   "cell_type": "code",
   "execution_count": 10,
   "id": "df786d19",
   "metadata": {},
   "outputs": [
    {
     "name": "stdout",
     "output_type": "stream",
     "text": [
      "Please enter a seed: 8908978943\n",
      "Cuboid surface area: 12208\n"
     ]
    }
   ],
   "source": [
    "#Question4\n",
    "\n",
    "import random\n",
    "def surface_area(a,b,c):\n",
    "    return 2*a*b+2*a*c+2*b*c\n",
    "\n",
    "seed1 = input(\"Please enter a seed: \")\n",
    "random.seed(seed1)\n",
    "a = random.randrange(10,100)\n",
    "b = random.randrange(10,100)\n",
    "c = random.randrange(10,100)\n",
    "print(\"Cuboid surface area:\",surface_area(a,b,c))"
   ]
  },
  {
   "cell_type": "code",
   "execution_count": 11,
   "id": "5f4e9b21",
   "metadata": {},
   "outputs": [
    {
     "name": "stdout",
     "output_type": "stream",
     "text": [
      "Enter the 3 coefficients for quadratic equation separated by spaces: 1 5 6 \n",
      "The two solutions to the quadratic with coefficients given are  -3.0 and -2.0\n"
     ]
    }
   ],
   "source": [
    "#Questions5\n",
    "import math\n",
    "a,b,c = input(\"Enter the 3 coefficients for quadratic equation separated by spaces: \").split()\n",
    "a = float(a)\n",
    "b = float(b)\n",
    "c = float(c)\n",
    "if(b*b-4*a*c >= 0):\n",
    "    x1 = (-b-math.sqrt(b*b-4*a*c))/(2*a)\n",
    "    x2 = (-b+math.sqrt(b*b-4*a*c))/(2*a)\n",
    "else:\n",
    "    x1 = complex(-b/(2*a),-math.sqrt(-b*b+4*a*c)/(2*a))\n",
    "    x2 = complex(-b/(2*a),math.sqrt(-b*b+4*a*c)/(2*a))\n",
    "if(x1 == x2):\n",
    "    print(\"There is only one solution to the quadratic with coefficients given. It is: \",x1)\n",
    "else:\n",
    "    print(\"The two solutions to the quadratic with coefficients given are \",x1,\"and\",x2)"
   ]
  },
  {
   "cell_type": "code",
   "execution_count": 12,
   "id": "a7b1cf25",
   "metadata": {},
   "outputs": [
    {
     "name": "stdout",
     "output_type": "stream",
     "text": [
      "enter two values separated by a space: 4 5 \n",
      "Unary minus(converts negative number to positive and vice versa) : -4.0 -5.0\n",
      "Unary plus does not change any number 4.0 5.0\n",
      "Addition  9.0\n",
      "Subtraction  -1.0\n",
      "Subtraction  20.0\n",
      "Division  0.8\n",
      "Integer Division 0.0\n",
      "Exponentiation, a^b printed 1024.0\n",
      "Modulo ,Outputs a/b - floor(a/b):  4.0\n"
     ]
    }
   ],
   "source": [
    "#Question6 \n",
    "a,b = input(\"enter two values separated by a space: \").split()\n",
    "a = float(a)\n",
    "b = float(b)\n",
    "\n",
    "#Unary Operators\n",
    "#minus\n",
    "print(\"Unary minus(converts negative number to positive and vice versa) :\", -a, -b)\n",
    "#plus\n",
    "print(\"Unary plus does not change any number\",+a,+b)\n",
    "\n",
    "#Addition\n",
    "print(\"Addition \",a+b)\n",
    "\n",
    "#Subtraction\n",
    "print(\"Subtraction \",a-b)\n",
    "\n",
    "#Multiplication\n",
    "print(\"Subtraction \",a*b)\n",
    "\n",
    "#Division\n",
    "print(\"Division \",a/b)\n",
    "\n",
    "#Integer Divison\n",
    "print(\"Integer Division\",a//b)\n",
    "\n",
    "#Exponentiation\n",
    "print(\"Exponentiation, a^b printed\",a**b)\n",
    "\n",
    "#Remainder (modulo)\n",
    "print(\"Modulo ,Outputs a/b - floor(a/b): \",a%b)"
   ]
  },
  {
   "cell_type": "code",
   "execution_count": 13,
   "id": "9f3a63c5",
   "metadata": {},
   "outputs": [
    {
     "name": "stdout",
     "output_type": "stream",
     "text": [
      "Learning python is fun\n",
      "Learning datascience is fun\n",
      "LEARNING PYTHON IS FUN\n",
      "fun is python Learning\n",
      "gninraeL nohtyp si nuf\n"
     ]
    }
   ],
   "source": [
    "#Question7\n",
    "words = [\"Learning\",\"python\",\"is\",\"fun\"]\n",
    "#If input instead then follow-\n",
    "#words = input().split()\n",
    "\n",
    "#a.\n",
    "sentence = \" \".join(words)\n",
    "print(sentence)\n",
    "\n",
    "#b.\n",
    "print(sentence.replace(\"python\",\"datascience\"))\n",
    "\n",
    "#c.\n",
    "uppercase_sentence = sentence.upper()\n",
    "print(uppercase_sentence)\n",
    "\n",
    "#d.\n",
    "new_sentence = \" \".join(sentence.split()[::-1])\n",
    "print(new_sentence)\n",
    "\n",
    "#e.\n",
    "\n",
    "def reverse_words(sentence):\n",
    "    word_list = sentence.split()\n",
    "    new_word_list = []\n",
    "    for x in word_list:\n",
    "        new_word_list.append(x[::-1])\n",
    "    return \" \".join(new_word_list)\n",
    "print(reverse_words(sentence))"
   ]
  },
  {
   "cell_type": "markdown",
   "id": "b6851297",
   "metadata": {},
   "source": [
    "#Question8\\ to do\n",
    "\n",
    "Python is an implementation , hence there are there are various implementations of python (Cpython,pypy,JPython etc.)\\\n",
    "\n",
    "Python is more **memory heavy and slower** than other languages.\\\n",
    "Python uses an interpreter that translates the code at runtime to run it. This is unlike other languages which first convert code to executables.\n",
    "\n",
    "First of all Python is **dynamically typed** which means that the data type is assigned to variables at runtime itself. Refer Example 1 \\\n",
    "Python does **not** have any **character** type. Single characters are treated as strings in python. Refer Example 2\\\n",
    "The **size** of datatypes such as integers and floats have size that can **change** based upon the precision and size of the number. Refer Example 3\\\n",
    "\n",
    "Python syntax is more **user friendly and has better readability** than other object oriented programming languages. Python has features like list comprehension that make it easy to initialise lists in certain cases.\n"
   ]
  },
  {
   "cell_type": "code",
   "execution_count": 14,
   "id": "7f816bda",
   "metadata": {},
   "outputs": [
    {
     "name": "stdout",
     "output_type": "stream",
     "text": [
      "Single character is:  <class 'str'>\n",
      "Small integer size:  28\n",
      "Integer size increases:  36\n"
     ]
    }
   ],
   "source": [
    "import sys\n",
    "\n",
    "#Example 1\n",
    "data = 5.6\n",
    "data = 5\n",
    "data = \"hello , now I am a string\"\n",
    "\n",
    "#Example 2\n",
    "#It is string and not a character datatype\n",
    "string1 = 'a'\n",
    "print(\"Single character is: \",type(string1))\n",
    "\n",
    "#Example 3\n",
    "integer_ = 5\n",
    "print(\"Small integer size: \",sys.getsizeof(integer_))\n",
    "integer_ = 50000000000000000000\n",
    "print(\"Integer size increases: \",sys.getsizeof(integer_))\n"
   ]
  },
  {
   "cell_type": "markdown",
   "id": "43605f3f",
   "metadata": {},
   "source": [
    "#Question9\\\n",
    "Built-in functions in python are functions that do not require any module/library to be imported and are a part of python internally.\\\n",
    "These functions are included in default in python.\\\n",
    "Examples : \\\n",
    "&nbsp;&nbsp;&nbsp;&nbsp; int() To cast a variable of some type into a integer\\\n",
    "&nbsp;&nbsp;&nbsp;&nbsp; float() To cast a variable of some type into a float\\\n",
    "&nbsp;&nbsp;&nbsp;&nbsp; abs() returns absolute value of a number\\\n",
    "&nbsp;&nbsp;&nbsp;&nbsp; pow() returns the first number power the second\\\n",
    "&nbsp;&nbsp;&nbsp;&nbsp; round() rounds a number\\\n",
    "&nbsp;&nbsp;&nbsp;&nbsp; len() returns length of datatypes such as strings\\\n",
    "The usage is detailed below:"
   ]
  },
  {
   "cell_type": "code",
   "execution_count": 15,
   "id": "87ccd184",
   "metadata": {},
   "outputs": [
    {
     "name": "stdout",
     "output_type": "stream",
     "text": [
      "String typecasted to integer:  1069\n",
      "String is typecasted to float:  3.56\n",
      "Absolute value of the number is printed 4\n",
      "3 to the power of 4 is 81\n",
      "Rounded number: 485.84\n",
      "The length of this string is: 16\n"
     ]
    }
   ],
   "source": [
    "#1\n",
    "string1 = \"1069\"\n",
    "casted_integer = int(string1)\n",
    "print(\"String typecasted to integer: \",casted_integer)\n",
    "\n",
    "#2\n",
    "string1 = \"3.56\"\n",
    "casted_float = float(string1)\n",
    "print(\"String is typecasted to float: \",casted_float)\n",
    "\n",
    "#3\n",
    "num = -4\n",
    "print(\"Absolute value of the number is printed\",abs(num))\n",
    "\n",
    "#4\n",
    "a = 3\n",
    "b = 4\n",
    "print(a,\"to the power of\",b,\"is\",pow(a,b))\n",
    "\n",
    "#5\n",
    "a = 485.8389\n",
    "print(\"Rounded number:\",round(a,2))\n",
    "#round(a,b) returns the number a rounded to b decimal places\n",
    "\n",
    "#6\n",
    "string1 = \"This is a string\"\n",
    "print(\"The length of this string is:\",len(string1))"
   ]
  },
  {
   "cell_type": "code",
   "execution_count": 17,
   "id": "bd8dbf88",
   "metadata": {},
   "outputs": [
    {
     "name": "stdout",
     "output_type": "stream",
     "text": [
      "enter string: hsdjkshdkjooi\n",
      "Number of vowels in the string is:  3\n",
      "String is not a palindrome\n"
     ]
    }
   ],
   "source": [
    "#Question10\n",
    "\n",
    "#1\n",
    "def Num_Vowels(str2):\n",
    "    count = 0\n",
    "    vowels = ['a','i','e','o','u']\n",
    "    for x in str2:\n",
    "        if(x in vowels):\n",
    "            count = count + 1\n",
    "    return count\n",
    "\n",
    "str1 = input(\"enter string: \")\n",
    "print(\"Number of vowels in the string is: \",Num_Vowels(str1))\n",
    "\n",
    "\n",
    "#2\n",
    "def ispalindrome(str2):\n",
    "    return str2 == str2[::-1]\n",
    "\n",
    "if(ispalindrome(str1)):\n",
    "    print(\"String is a palindrome\")\n",
    "else:\n",
    "    print(\"String is not a palindrome\")"
   ]
  },
  {
   "cell_type": "code",
   "execution_count": null,
   "id": "075c1208",
   "metadata": {},
   "outputs": [],
   "source": []
  }
 ],
 "metadata": {
  "kernelspec": {
   "display_name": "Python 3 (ipykernel)",
   "language": "python",
   "name": "python3"
  },
  "language_info": {
   "codemirror_mode": {
    "name": "ipython",
    "version": 3
   },
   "file_extension": ".py",
   "mimetype": "text/x-python",
   "name": "python",
   "nbconvert_exporter": "python",
   "pygments_lexer": "ipython3",
   "version": "3.11.3"
  }
 },
 "nbformat": 4,
 "nbformat_minor": 5
}
